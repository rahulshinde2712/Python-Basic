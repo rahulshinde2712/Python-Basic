{
 "cells": [
  {
   "cell_type": "markdown",
   "metadata": {
    "application/vnd.databricks.v1+cell": {
     "cellMetadata": {},
     "inputWidgets": {},
     "nuid": "d02e2901-0ef2-4b44-a79f-4128a75f2f99",
     "showTitle": false,
     "title": ""
    }
   },
   "source": [
    "# Conditionals"
   ]
  },
  {
   "cell_type": "markdown",
   "metadata": {
    "application/vnd.databricks.v1+cell": {
     "cellMetadata": {},
     "inputWidgets": {},
     "nuid": "2eda1cdc-73c4-43da-8f45-502107620fad",
     "showTitle": false,
     "title": ""
    }
   },
   "source": [
    "## Testing truth value"
   ]
  },
  {
   "cell_type": "markdown",
   "metadata": {
    "application/vnd.databricks.v1+cell": {
     "cellMetadata": {},
     "inputWidgets": {},
     "nuid": "15997ea0-20a2-4ef4-b092-c09ed6400139",
     "showTitle": false,
     "title": ""
    }
   },
   "source": [
    "### `bool`"
   ]
  },
  {
   "cell_type": "code",
   "execution_count": 0,
   "metadata": {
    "application/vnd.databricks.v1+cell": {
     "cellMetadata": {},
     "inputWidgets": {},
     "nuid": "210ac0a8-72a9-455c-ad5b-36c7d82585a8",
     "showTitle": false,
     "title": ""
    }
   },
   "outputs": [],
   "source": [
    "print(f\"type of True and False: {type(True)}\")"
   ]
  },
  {
   "cell_type": "code",
   "execution_count": 0,
   "metadata": {
    "application/vnd.databricks.v1+cell": {
     "cellMetadata": {},
     "inputWidgets": {},
     "nuid": "d75d5aa4-eff1-4276-b9f6-0a147455511c",
     "showTitle": false,
     "title": ""
    }
   },
   "outputs": [],
   "source": [
    "print(f\"0: {bool(0)}, 1: {bool(1)}\")\n",
    "print(f\"empty list: {bool([])}, list with values: {bool(['woop'])}\")\n",
    "print(f\"empty dict: {bool({})}, dict with values: {bool({'Python': 'cool'})}\")"
   ]
  },
  {
   "cell_type": "markdown",
   "metadata": {
    "application/vnd.databricks.v1+cell": {
     "cellMetadata": {},
     "inputWidgets": {},
     "nuid": "8d524873-3158-411a-88ed-f83b09373f6a",
     "showTitle": false,
     "title": ""
    }
   },
   "source": [
    "### `==, !=, >, <, >=, <=`"
   ]
  },
  {
   "cell_type": "code",
   "execution_count": 0,
   "metadata": {
    "application/vnd.databricks.v1+cell": {
     "cellMetadata": {},
     "inputWidgets": {},
     "nuid": "3503336b-8e4e-457f-9ee2-5f768c78d39e",
     "showTitle": false,
     "title": ""
    }
   },
   "outputs": [],
   "source": [
    "print(f\"{1 == 0}\")\n",
    "print(f\"{1 != 0}\")\n",
    "print(f\"{1 > 0}\")\n",
    "print(f\"{1 > 1}\")\n",
    "print(f\"{1 < 0}\")\n",
    "print(f\"{1 < 1}\")\n",
    "print(f\"{1 >= 0}\")\n",
    "print(f\"{1 >= 1}\")\n",
    "print(f\"{1 <= 0}\")\n",
    "print(f\"{1 <= 1}\")"
   ]
  },
  {
   "cell_type": "markdown",
   "metadata": {
    "application/vnd.databricks.v1+cell": {
     "cellMetadata": {},
     "inputWidgets": {},
     "nuid": "831a2e2d-3a8d-44e9-a101-2cee109fd9ec",
     "showTitle": false,
     "title": ""
    }
   },
   "source": [
    "You can combine these:"
   ]
  },
  {
   "cell_type": "code",
   "execution_count": 0,
   "metadata": {
    "application/vnd.databricks.v1+cell": {
     "cellMetadata": {},
     "inputWidgets": {},
     "nuid": "0ee643c7-3c11-4324-9197-b889084ef0af",
     "showTitle": false,
     "title": ""
    }
   },
   "outputs": [],
   "source": [
    "print(f\"{1 <= 2 <= 3}\")"
   ]
  },
  {
   "cell_type": "markdown",
   "metadata": {
    "application/vnd.databricks.v1+cell": {
     "cellMetadata": {},
     "inputWidgets": {},
     "nuid": "9525a17d-858d-4402-9bed-46562c6f8d73",
     "showTitle": false,
     "title": ""
    }
   },
   "source": [
    "### `and, or, not`"
   ]
  },
  {
   "cell_type": "code",
   "execution_count": 0,
   "metadata": {
    "application/vnd.databricks.v1+cell": {
     "cellMetadata": {},
     "inputWidgets": {},
     "nuid": "690e6cec-b58e-4468-a7f8-b7f2f83f1034",
     "showTitle": false,
     "title": ""
    }
   },
   "outputs": [],
   "source": [
    "python_is_cool = True\n",
    "java_is_cool = False\n",
    "empty_list = []\n",
    "secret_value = 3.14"
   ]
  },
  {
   "cell_type": "code",
   "execution_count": 0,
   "metadata": {
    "application/vnd.databricks.v1+cell": {
     "cellMetadata": {},
     "inputWidgets": {},
     "nuid": "77555323-eef7-4f69-980d-830a791af305",
     "showTitle": false,
     "title": ""
    }
   },
   "outputs": [],
   "source": [
    "print(f\"Python and java are both cool: {python_is_cool and java_is_cool}\")\n",
    "print(f\"secret_value and python_is_cool: {secret_value and python_is_cool}\")"
   ]
  },
  {
   "cell_type": "code",
   "execution_count": 0,
   "metadata": {
    "application/vnd.databricks.v1+cell": {
     "cellMetadata": {},
     "inputWidgets": {},
     "nuid": "4d2cf7b1-8693-4f63-98b6-93eca9c0ea6a",
     "showTitle": false,
     "title": ""
    }
   },
   "outputs": [],
   "source": [
    "print(f\"Python or java is cool: {python_is_cool or java_is_cool}\")\n",
    "print(f\"{1 >= 1.1 or 2 < 1.4}\")"
   ]
  },
  {
   "cell_type": "code",
   "execution_count": 0,
   "metadata": {
    "application/vnd.databricks.v1+cell": {
     "cellMetadata": {},
     "inputWidgets": {},
     "nuid": "39387859-323d-45a3-8c14-25f759505e4c",
     "showTitle": false,
     "title": ""
    }
   },
   "outputs": [],
   "source": [
    "print(f\"Java is not cool: {not java_is_cool}\")"
   ]
  },
  {
   "cell_type": "markdown",
   "metadata": {
    "application/vnd.databricks.v1+cell": {
     "cellMetadata": {},
     "inputWidgets": {},
     "nuid": "064e8368-3381-4b17-b39c-b33bf909bd86",
     "showTitle": false,
     "title": ""
    }
   },
   "source": [
    "You can combine multiple statements, execution order is from left to right. You can control the execution order by using brackets."
   ]
  },
  {
   "cell_type": "code",
   "execution_count": 0,
   "metadata": {
    "application/vnd.databricks.v1+cell": {
     "cellMetadata": {},
     "inputWidgets": {},
     "nuid": "b28880d3-657a-4bc6-8e55-a00b27e1b9b3",
     "showTitle": false,
     "title": ""
    }
   },
   "outputs": [],
   "source": [
    "print(bool(not java_is_cool or secret_value and python_is_cool or empty_list))\n",
    "print(bool(not (java_is_cool or secret_value and python_is_cool or empty_list)))"
   ]
  },
  {
   "cell_type": "markdown",
   "metadata": {
    "application/vnd.databricks.v1+cell": {
     "cellMetadata": {},
     "inputWidgets": {},
     "nuid": "a646c3af-44d1-47e9-bafd-d78326af6434",
     "showTitle": false,
     "title": ""
    }
   },
   "source": [
    "## `if`"
   ]
  },
  {
   "cell_type": "code",
   "execution_count": 0,
   "metadata": {
    "application/vnd.databricks.v1+cell": {
     "cellMetadata": {},
     "inputWidgets": {},
     "nuid": "55ff6501-4b52-462e-8859-2be3ab562b58",
     "showTitle": false,
     "title": ""
    }
   },
   "outputs": [],
   "source": [
    "statement = True\n",
    "if statement:\n",
    "    print(\"statement is True\")\n",
    "\n",
    "if not statement:\n",
    "    print(\"statement is not True\")"
   ]
  },
  {
   "cell_type": "code",
   "execution_count": 0,
   "metadata": {
    "application/vnd.databricks.v1+cell": {
     "cellMetadata": {},
     "inputWidgets": {},
     "nuid": "80435a05-2bd7-4cbe-b223-b91f912da569",
     "showTitle": false,
     "title": ""
    }
   },
   "outputs": [],
   "source": [
    "empty_list = []\n",
    "# With if and elif, conversion to `bool` is implicit\n",
    "if empty_list:\n",
    "    print(\"empty list will not evaluate to True\")  # this won't be executed"
   ]
  },
  {
   "cell_type": "code",
   "execution_count": 0,
   "metadata": {
    "application/vnd.databricks.v1+cell": {
     "cellMetadata": {},
     "inputWidgets": {},
     "nuid": "1da60470-55c8-4595-b3ce-510d1798deae",
     "showTitle": false,
     "title": ""
    }
   },
   "outputs": [],
   "source": [
    "val = 3\n",
    "if 0 <= val < 1 or val == 3:\n",
    "    print(\"Value is positive and less than one or value is three\")"
   ]
  },
  {
   "cell_type": "markdown",
   "metadata": {
    "application/vnd.databricks.v1+cell": {
     "cellMetadata": {},
     "inputWidgets": {},
     "nuid": "65317281-12e8-4d8c-9a4a-8bf5f628fe9b",
     "showTitle": false,
     "title": ""
    }
   },
   "source": [
    "## `if-else`"
   ]
  },
  {
   "cell_type": "code",
   "execution_count": 0,
   "metadata": {
    "application/vnd.databricks.v1+cell": {
     "cellMetadata": {},
     "inputWidgets": {},
     "nuid": "1e0947d5-bf64-4469-89ff-1d9dcdcc89e7",
     "showTitle": false,
     "title": ""
    }
   },
   "outputs": [],
   "source": [
    "my_dict = {}\n",
    "if my_dict:\n",
    "    print(\"there is something in my dict\")\n",
    "else:\n",
    "    print(\"my dict is empty :(\")"
   ]
  },
  {
   "cell_type": "markdown",
   "metadata": {
    "application/vnd.databricks.v1+cell": {
     "cellMetadata": {},
     "inputWidgets": {},
     "nuid": "897de4c8-4733-483f-9370-6b25f60776b5",
     "showTitle": false,
     "title": ""
    }
   },
   "source": [
    "## `if-elif-else`"
   ]
  },
  {
   "cell_type": "code",
   "execution_count": 0,
   "metadata": {
    "application/vnd.databricks.v1+cell": {
     "cellMetadata": {},
     "inputWidgets": {},
     "nuid": "c40b80c8-b643-485d-997f-b94ca184581d",
     "showTitle": false,
     "title": ""
    }
   },
   "outputs": [],
   "source": [
    "val = 88\n",
    "if val >= 100:\n",
    "    print(\"value is equal or greater than 100\")\n",
    "elif val > 10:\n",
    "    print(\"value is greater than 10 but less than 100\")\n",
    "else:\n",
    "    print(\"value is equal or less than 10\")"
   ]
  },
  {
   "cell_type": "markdown",
   "metadata": {
    "application/vnd.databricks.v1+cell": {
     "cellMetadata": {},
     "inputWidgets": {},
     "nuid": "0efe2670-4aa1-4594-a27f-51b3aa5de61b",
     "showTitle": false,
     "title": ""
    }
   },
   "source": [
    "You can have as many `elif` statements as you need. In addition, `else` at the end is not mandatory."
   ]
  },
  {
   "cell_type": "code",
   "execution_count": 0,
   "metadata": {
    "application/vnd.databricks.v1+cell": {
     "cellMetadata": {},
     "inputWidgets": {},
     "nuid": "6a00e2f7-6b2c-4e1c-80a6-b34ea9b0ae67",
     "showTitle": false,
     "title": ""
    }
   },
   "outputs": [],
   "source": [
    "greeting = \"Hello fellow Pythonista!\"\n",
    "language = \"Italian\"\n",
    "\n",
    "if language == \"Swedish\":\n",
    "    greeting = \"Hejsan!\"\n",
    "elif language == \"Finnish\":\n",
    "    greeting = \"Latua perkele!\"\n",
    "elif language == \"Spanish\":\n",
    "    greeting = \"Hola!\"\n",
    "elif language == \"German\":\n",
    "    greeting = \"Guten Tag!\"\n",
    "\n",
    "print(greeting)"
   ]
  },
  {
   "cell_type": "markdown",
   "metadata": {
    "application/vnd.databricks.v1+cell": {
     "cellMetadata": {},
     "inputWidgets": {},
     "nuid": "cf6d53cb-71be-4704-89a1-18d3cab33374",
     "showTitle": false,
     "title": ""
    }
   },
   "source": [
    "For more detailed overview about conditionals, check this [tutorial from Real Python](https://realpython.com/python-conditional-statements/)."
   ]
  }
 ],
 "metadata": {
  "application/vnd.databricks.v1+notebook": {
   "dashboards": [],
   "language": "python",
   "notebookMetadata": {},
   "notebookName": "05_conditionals",
   "widgets": {}
  },
  "kernelspec": {
   "display_name": "Python 3",
   "language": "python",
   "name": "python3"
  },
  "language_info": {
   "codemirror_mode": {
    "name": "ipython",
    "version": 3
   },
   "file_extension": ".py",
   "mimetype": "text/x-python",
   "name": "python",
   "nbconvert_exporter": "python",
   "pygments_lexer": "ipython3",
   "version": "3.5.4"
  }
 },
 "nbformat": 4,
 "nbformat_minor": 0
}
