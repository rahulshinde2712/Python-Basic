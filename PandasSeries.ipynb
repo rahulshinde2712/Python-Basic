{
 "cells": [
  {
   "cell_type": "code",
   "execution_count": 0,
   "metadata": {
    "application/vnd.databricks.v1+cell": {
     "cellMetadata": {},
     "inputWidgets": {},
     "nuid": "496d711c-8a31-4911-9562-68f2e6655198",
     "showTitle": false,
     "title": ""
    }
   },
   "outputs": [],
   "source": [
    "import pandas as pd \n",
    "pd.__version__"
   ]
  },
  {
   "cell_type": "code",
   "execution_count": 0,
   "metadata": {
    "application/vnd.databricks.v1+cell": {
     "cellMetadata": {},
     "inputWidgets": {},
     "nuid": "96b501ae-a84d-420b-a038-ef953389dfa4",
     "showTitle": false,
     "title": ""
    }
   },
   "outputs": [],
   "source": [
    "\"\"\"\n",
    "Pandas Series : \n",
    "    Series is a one-dimensional array that is capable of storing various data types (integer, string, float, python objects, etc.). \n",
    "    We can easily convert the list, tuple, and dictionary into Series using the series() method. \n",
    "    In pandas Series, the row labels of Series are called the index. \n",
    "    The Series can have only one column, but it cannot contain multiple columns. \n",
    "    A List, NumPy Array, Dict can be turned into a pandas Series.\n",
    "Syntax: pd.series(data,index,dtype,copy)\n",
    "\n",
    "data: The data contains ndarray, list, constants.\n",
    "Index: The index must be unique and hashable. np.arrange(n) if no index is passed.\n",
    "dtype: dtype is also a data type.\n",
    "copy: It is used to copy the data. The data contains ndarray, list, constants.\n",
    "\n",
    "\"\"\"\n",
    "\n"
   ]
  },
  {
   "cell_type": "code",
   "execution_count": 0,
   "metadata": {
    "application/vnd.databricks.v1+cell": {
     "cellMetadata": {},
     "inputWidgets": {},
     "nuid": "be6b6b4a-a4f0-460b-9538-27ec3fa033b7",
     "showTitle": false,
     "title": ""
    }
   },
   "outputs": [],
   "source": [
    "#Create Pandas Series\n",
    "# Create Series from array\n",
    "import pandas as pd \n",
    "import numpy as np\n",
    "data = np.array(['python','php','java'])\n",
    "series = pd.Series(data)\n",
    "print (series)"
   ]
  },
  {
   "cell_type": "code",
   "execution_count": 0,
   "metadata": {
    "application/vnd.databricks.v1+cell": {
     "cellMetadata": {},
     "inputWidgets": {},
     "nuid": "4b293438-2b23-467a-98a1-1509132319ef",
     "showTitle": false,
     "title": ""
    }
   },
   "outputs": [],
   "source": [
    "# Create a Dict from a input\n",
    "data = {'Courses' :\"pandas\", 'Fees' : 20000, 'Duration' : \"30days\"}\n",
    "s2 = pd.Series(data)\n",
    "print (s2)"
   ]
  },
  {
   "cell_type": "code",
   "execution_count": 0,
   "metadata": {
    "application/vnd.databricks.v1+cell": {
     "cellMetadata": {},
     "inputWidgets": {},
     "nuid": "6a8f4b3e-4abc-4feb-a73b-6a9b92518789",
     "showTitle": false,
     "title": ""
    }
   },
   "outputs": [],
   "source": [
    "#Creating DataFrame from List\n",
    "data = ['python','php','java']\n",
    "s2 = pd.Series(data, index=['r1', 'r2','r3'])\n",
    "print(s2)\n"
   ]
  },
  {
   "cell_type": "code",
   "execution_count": 0,
   "metadata": {
    "application/vnd.databricks.v1+cell": {
     "cellMetadata": {},
     "inputWidgets": {},
     "nuid": "89f30a1c-fa5d-4b5b-890b-2ee5736c291e",
     "showTitle": false,
     "title": ""
    }
   },
   "outputs": [],
   "source": [
    "\"\"\"\n",
    "    DataFrame Features\n",
    "        DataFrames supported named rows & columns (you can also provide names to rows)\n",
    "        Pandas DataFrame size is mutable.\n",
    "        Supports Hetrogenous Collections of data.\n",
    "        DataFrame labeled axes (rows and columns).\n",
    "        Can perform arithmetic operations on rows and columns.\n",
    "        Supporting reading flat files like CSV,Excel, JSON and also reading SQL tables’s\n",
    "        Handling of missing data.\n",
    "\n",
    "\"\"\""
   ]
  },
  {
   "cell_type": "code",
   "execution_count": 0,
   "metadata": {
    "application/vnd.databricks.v1+cell": {
     "cellMetadata": {},
     "inputWidgets": {},
     "nuid": "05515f69-021a-4ebe-8755-ac3258a14d92",
     "showTitle": false,
     "title": ""
    }
   },
   "outputs": [],
   "source": [
    "\n",
    "# Create pandas DataFrame from List\n",
    "import pandas as pd\n",
    "technologies = [ [\"Spark\",20000, \"30days\"], \n",
    "                 [\"Pandas\",25000, \"40days\"], \n",
    "               ]\n",
    "df=pd.DataFrame(technologies)\n",
    "\n",
    "\n",
    "column_names=[\"Courses\",\"Fee\",\"Duration\"]\n",
    "row_label=[\"a\",\"b\"]\n",
    "df=pd.DataFrame(technologies,columns=column_names,index=row_label)\n",
    "print(df)\n"
   ]
  },
  {
   "cell_type": "code",
   "execution_count": 0,
   "metadata": {
    "application/vnd.databricks.v1+cell": {
     "cellMetadata": {},
     "inputWidgets": {},
     "nuid": "f8eb09c3-8fec-486b-80ca-893a9f4c20c9",
     "showTitle": false,
     "title": ""
    }
   },
   "outputs": [],
   "source": [
    "\n",
    "# Create DataFrame from Dict\n",
    "technologies = {\n",
    "    'Courses':[\"Spark\",\"Pandas\"],\n",
    "    'Fee' :[20000,25000],\n",
    "    'Duration':['30days','40days']\n",
    "              }\n",
    "df = pd.DataFrame(technologies)\n",
    "print(df)\n",
    "\n",
    "print(\"==================\")\n",
    "\n",
    "#add index in dataframe\n",
    "index_label=[\"r1\",\"r2\"]\n",
    "df = pd.DataFrame(technologies, index=index_label)\n",
    "print(df)\n"
   ]
  },
  {
   "cell_type": "code",
   "execution_count": 0,
   "metadata": {
    "application/vnd.databricks.v1+cell": {
     "cellMetadata": {},
     "inputWidgets": {},
     "nuid": "63d45b85-1928-41de-9d0b-843c01f052cb",
     "showTitle": false,
     "title": ""
    }
   },
   "outputs": [],
   "source": [
    "\n",
    "# Creates DataFrame from list of dict\n",
    "technologies = [{'Courses':'Spark', 'Fee': 20000, 'Duration':'30days'},\n",
    "        {'Courses':'Pandas', 'Fee': 25000, 'Duration': '40days'}]\n",
    "\n",
    "df = pd.DataFrame(technologies)\n",
    "print(df)\n"
   ]
  },
  {
   "cell_type": "code",
   "execution_count": 0,
   "metadata": {
    "application/vnd.databricks.v1+cell": {
     "cellMetadata": {},
     "inputWidgets": {},
     "nuid": "001c7264-3ccd-4c3f-be9b-2ff81bc93dc9",
     "showTitle": false,
     "title": ""
    }
   },
   "outputs": [],
   "source": [
    "\n",
    "# Create pandas Series\n",
    "courses = pd.Series([\"Spark\",\"Pandas\"])\n",
    "fees = pd.Series([20000,25000])\n",
    "duration = pd.Series(['30days','40days'])\n",
    "\n",
    "# Create DataFrame from series objects.\n",
    "df=pd.concat([courses,fees,duration],axis=1)\n",
    "print(df)\n"
   ]
  },
  {
   "cell_type": "code",
   "execution_count": 0,
   "metadata": {
    "application/vnd.databricks.v1+cell": {
     "cellMetadata": {},
     "inputWidgets": {},
     "nuid": "79c34bc9-2eb2-4079-9541-a56fe2e8b9a5",
     "showTitle": false,
     "title": ""
    }
   },
   "outputs": [],
   "source": [
    "# Creating DataFrame using zip() function\n",
    "# \"\"\"Multiple lists can be merged using zip() method and the output is used to create a DataFrame.\"\"\"\n",
    "\n",
    "# Create Lists\n",
    "Courses = ['Spark', 'Pandas']\n",
    "Fee = [20000,25000]\n",
    "Duration = ['30days','40days']\n",
    "   \n",
    "# Merge lists by using zip().\n",
    "tuples_list = list(zip(Courses, Fee, Duration))\n",
    "df = pd.DataFrame(tuples_list, columns = ['Courses', 'Fee', 'Duration'])\n",
    "print(df)"
   ]
  },
  {
   "cell_type": "code",
   "execution_count": 0,
   "metadata": {
    "application/vnd.databricks.v1+cell": {
     "cellMetadata": {},
     "inputWidgets": {},
     "nuid": "24d1ea50-0a2e-419f-a8e2-adfa0c9c92fd",
     "showTitle": false,
     "title": ""
    }
   },
   "outputs": [],
   "source": [
    "import pandas as pd\n",
    "\n",
    "# In pandas, it's one easy line. Pretty nice.\n",
    "df = pd.read_csv(\"./files/Mara.csv\")\n",
    "print(df.head(2))"
   ]
  },
  {
   "cell_type": "code",
   "execution_count": 0,
   "metadata": {
    "application/vnd.databricks.v1+cell": {
     "cellMetadata": {},
     "inputWidgets": {},
     "nuid": "b42cc948-9fb3-4ae1-aecf-c05888dc5c4d",
     "showTitle": false,
     "title": ""
    }
   },
   "outputs": [],
   "source": [
    "\n",
    "# Below are quick examples.\n",
    "\n",
    "# Select Rows by Integer Index\n",
    "# df2 = df.iloc[2]     # Select Row by Index\n",
    "# df2 = df.iloc[[2,3,6]]    # Select Rows by Index List\n",
    "# df2 = df.iloc[1:5]   # Select Rows by Integer Index Range\n",
    "# df2 = df.iloc[:1]    # Select First Row\n",
    "# df2 = df.iloc[:3]    # Select First 3 Rows\n",
    "df2 = df.iloc[-1:]   # Select Last Row\n",
    "# df2 = df.iloc[-3:]   # Select Last 3 Row\n",
    "# df2 = df.iloc[::2]   # Selects alternate rows\n",
    "\n",
    "print(df2)"
   ]
  },
  {
   "cell_type": "code",
   "execution_count": 0,
   "metadata": {
    "application/vnd.databricks.v1+cell": {
     "cellMetadata": {},
     "inputWidgets": {},
     "nuid": "05432ced-d1fe-4ff7-845c-0c5dd76a0a0c",
     "showTitle": false,
     "title": ""
    }
   },
   "outputs": [],
   "source": [
    "\n",
    "import pandas as pd\n",
    "import numpy as np\n",
    "technologies = {\n",
    "    'Courses':[\"Spark\",\"PySpark\",\"Hadoop\",\"Python\",\"pandas\",\"Oracle\",\"Java\"],\n",
    "    'Fee' :[20000,25000,26000,22000,24000,21000,22000],\n",
    "    'Duration':['30days','40days','35days','40days',np.nan,None,'55days'],\n",
    "    'Discount':[1000,2300,1500,1200,2500,2100,2000]\n",
    "               }\n",
    "index_labels=['r1','r2','r3','r4','r5','r6','r7']\n",
    "df = pd.DataFrame(technologies,index=index_labels)\n",
    "print(df)"
   ]
  },
  {
   "cell_type": "code",
   "execution_count": 0,
   "metadata": {
    "application/vnd.databricks.v1+cell": {
     "cellMetadata": {},
     "inputWidgets": {},
     "nuid": "872acc19-0cec-4492-9c06-3c3f8156bc64",
     "showTitle": false,
     "title": ""
    }
   },
   "outputs": [],
   "source": [
    "# Select Rows by Index Labels\n",
    "df2 = df.loc['r2']          # Select Row by Index Label\n",
    "# df2 = df.loc[['r2','r3','r6']]    # Select Rows by Index Label List\n",
    "# df2 = df.loc['r1':'r5']     # Select Rows by Label Index Range\n",
    "# df2 = df.loc['r1':'r5']     # Select Rows by Label Index Range\n",
    "# df2 = df.loc['r1':'r5':2]   # Select Alternate Rows with in Index Labels\n",
    "\n",
    "print(df2)"
   ]
  },
  {
   "cell_type": "code",
   "execution_count": 0,
   "metadata": {
    "application/vnd.databricks.v1+cell": {
     "cellMetadata": {},
     "inputWidgets": {},
     "nuid": "f7b5a725-ede8-4c65-8574-d111a359057b",
     "showTitle": false,
     "title": ""
    }
   },
   "outputs": [],
   "source": []
  }
 ],
 "metadata": {
  "application/vnd.databricks.v1+notebook": {
   "dashboards": [],
   "language": "python",
   "notebookMetadata": {},
   "notebookName": "PandasSeries",
   "widgets": {}
  },
  "kernelspec": {
   "display_name": "Python 3",
   "language": "python",
   "name": "python3"
  },
  "language_info": {
   "codemirror_mode": {
    "name": "ipython",
    "version": 3
   },
   "file_extension": ".py",
   "mimetype": "text/x-python",
   "name": "python",
   "nbconvert_exporter": "python",
   "pygments_lexer": "ipython3",
   "version": "3.5.4"
  }
 },
 "nbformat": 4,
 "nbformat_minor": 0
}
