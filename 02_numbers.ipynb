{
 "cells": [
  {
   "cell_type": "markdown",
   "metadata": {
    "application/vnd.databricks.v1+cell": {
     "cellMetadata": {},
     "inputWidgets": {},
     "nuid": "3c03a673-9523-4b49-96d2-29ad62c22bb5",
     "showTitle": false,
     "title": ""
    }
   },
   "source": [
    "# [Numbers](https://docs.python.org/3/library/stdtypes.html#numeric-types-int-float-complex)"
   ]
  },
  {
   "cell_type": "markdown",
   "metadata": {
    "application/vnd.databricks.v1+cell": {
     "cellMetadata": {},
     "inputWidgets": {},
     "nuid": "70f15820-fc9b-4faa-9dae-94918979e7c7",
     "showTitle": false,
     "title": ""
    }
   },
   "source": [
    "## `int`"
   ]
  },
  {
   "cell_type": "code",
   "execution_count": 0,
   "metadata": {
    "application/vnd.databricks.v1+cell": {
     "cellMetadata": {},
     "inputWidgets": {},
     "nuid": "c11dc612-a7ea-4709-9f72-61f2a5c4cec6",
     "showTitle": false,
     "title": ""
    }
   },
   "outputs": [],
   "source": [
    "my_int = 6\n",
    "# print(f\"value: {my_int}, type: {type(my_int)}\")\n",
    "print(\"value: {}, type: {}\".format(my_int,type(my_int)))\n"
   ]
  },
  {
   "cell_type": "markdown",
   "metadata": {
    "application/vnd.databricks.v1+cell": {
     "cellMetadata": {},
     "inputWidgets": {},
     "nuid": "eb27347f-32de-47c8-b024-4761237fb3e1",
     "showTitle": false,
     "title": ""
    }
   },
   "source": [
    "## `float`"
   ]
  },
  {
   "cell_type": "code",
   "execution_count": 0,
   "metadata": {
    "application/vnd.databricks.v1+cell": {
     "cellMetadata": {},
     "inputWidgets": {},
     "nuid": "ba9f971b-925b-46af-bbd9-6d43d996d093",
     "showTitle": false,
     "title": ""
    }
   },
   "outputs": [],
   "source": [
    "my_float = float(my_int)\n",
    "# print(f\"value: {my_float}, type: {type(my_float)}\")\n",
    "print(\"value: {}, type: {}\".format(my_float,type(my_float)))"
   ]
  },
  {
   "cell_type": "code",
   "execution_count": 0,
   "metadata": {
    "application/vnd.databricks.v1+cell": {
     "cellMetadata": {},
     "inputWidgets": {},
     "nuid": "1ab18fe0-21d7-4f20-81c3-3521bee85526",
     "showTitle": false,
     "title": ""
    }
   },
   "outputs": [],
   "source": [
    "percentH = 12.66666\n",
    "print(round(percentH,2))\n",
    "print(float(\"{:.2f}\".format(percentH)))"
   ]
  },
  {
   "cell_type": "markdown",
   "metadata": {
    "application/vnd.databricks.v1+cell": {
     "cellMetadata": {},
     "inputWidgets": {},
     "nuid": "f47e5507-4d51-493e-9b4e-888e54b129be",
     "showTitle": false,
     "title": ""
    }
   },
   "source": [
    "Note that division of `int`s produces `float`:"
   ]
  },
  {
   "cell_type": "code",
   "execution_count": 0,
   "metadata": {
    "application/vnd.databricks.v1+cell": {
     "cellMetadata": {},
     "inputWidgets": {},
     "nuid": "fcdc88b0-3960-4e0f-8d93-d38dd5eb61f4",
     "showTitle": false,
     "title": ""
    }
   },
   "outputs": [],
   "source": [
    "print(1 / 1)\n",
    "print(6 / 5)"
   ]
  },
  {
   "cell_type": "markdown",
   "metadata": {
    "application/vnd.databricks.v1+cell": {
     "cellMetadata": {},
     "inputWidgets": {},
     "nuid": "4109f362-f199-48dc-b273-226efef1b9e2",
     "showTitle": false,
     "title": ""
    }
   },
   "source": [
    "Be aware of the binary floating-point pitfalls (see [Decimal](#decimal) for workaround):"
   ]
  },
  {
   "cell_type": "code",
   "execution_count": 0,
   "metadata": {
    "application/vnd.databricks.v1+cell": {
     "cellMetadata": {},
     "inputWidgets": {},
     "nuid": "ce62ea4b-bb5f-42dc-95c1-2c0ef864818d",
     "showTitle": false,
     "title": ""
    }
   },
   "outputs": [],
   "source": [
    "val = 0.1 + 0.1 + 0.1\n",
    "print(val)\n",
    "print(round(val,1)== 0.3)\n",
    "print(val)\n",
    "print(round(2.6))"
   ]
  },
  {
   "cell_type": "markdown",
   "metadata": {
    "application/vnd.databricks.v1+cell": {
     "cellMetadata": {},
     "inputWidgets": {},
     "nuid": "daf586ae-7b15-4304-89cf-3a91966790bb",
     "showTitle": false,
     "title": ""
    }
   },
   "source": [
    "## Floor division `//`, modulus `%`, power `**`"
   ]
  },
  {
   "cell_type": "code",
   "execution_count": 0,
   "metadata": {
    "application/vnd.databricks.v1+cell": {
     "cellMetadata": {},
     "inputWidgets": {},
     "nuid": "d8534aae-5f10-4231-8855-110360ad412a",
     "showTitle": false,
     "title": ""
    }
   },
   "outputs": [],
   "source": [
    "7 // 5"
   ]
  },
  {
   "cell_type": "code",
   "execution_count": 0,
   "metadata": {
    "application/vnd.databricks.v1+cell": {
     "cellMetadata": {},
     "inputWidgets": {},
     "nuid": "66237172-2a26-46e7-ba27-490513dce6b6",
     "showTitle": false,
     "title": ""
    }
   },
   "outputs": [],
   "source": [
    "7 % 5"
   ]
  },
  {
   "cell_type": "code",
   "execution_count": 0,
   "metadata": {
    "application/vnd.databricks.v1+cell": {
     "cellMetadata": {},
     "inputWidgets": {},
     "nuid": "b1f02ae0-04bc-4129-8cfd-58b44336f382",
     "showTitle": false,
     "title": ""
    }
   },
   "outputs": [],
   "source": [
    "2**3"
   ]
  },
  {
   "cell_type": "markdown",
   "metadata": {
    "application/vnd.databricks.v1+cell": {
     "cellMetadata": {},
     "inputWidgets": {},
     "nuid": "e78ff077-18ef-447c-8410-dca61c49f069",
     "showTitle": false,
     "title": ""
    }
   },
   "source": [
    "<a id='decimal'></a>\n",
    "## [`decimal.Decimal`](https://docs.python.org/3/library/decimal.html)"
   ]
  },
  {
   "cell_type": "code",
   "execution_count": 0,
   "metadata": {
    "application/vnd.databricks.v1+cell": {
     "cellMetadata": {},
     "inputWidgets": {},
     "nuid": "6ba2b274-21e7-44f4-afd9-56a8f53e07dc",
     "showTitle": false,
     "title": ""
    }
   },
   "outputs": [],
   "source": [
    "from decimal import Decimal"
   ]
  },
  {
   "cell_type": "code",
   "execution_count": 0,
   "metadata": {
    "application/vnd.databricks.v1+cell": {
     "cellMetadata": {},
     "inputWidgets": {},
     "nuid": "a4226a4b-c380-4b00-ace6-86d099507664",
     "showTitle": false,
     "title": ""
    }
   },
   "outputs": [],
   "source": [
    "from_float = Decimal(0.1)\n",
    "from_str = Decimal(\"0.1\")\n",
    "print(\"from float: {}\\nfrom string: {}\".format(from_float,from_str))"
   ]
  },
  {
   "cell_type": "code",
   "execution_count": 0,
   "metadata": {
    "application/vnd.databricks.v1+cell": {
     "cellMetadata": {},
     "inputWidgets": {},
     "nuid": "67321ecc-c4ef-4891-9c8e-3b172870af8b",
     "showTitle": false,
     "title": ""
    }
   },
   "outputs": [],
   "source": [
    "my_decimal = Decimal(\"0.1\")\n",
    "sum_of_decimals = my_decimal + my_decimal + my_decimal\n",
    "print(sum_of_decimals == Decimal(\"0.3\"))"
   ]
  },
  {
   "cell_type": "markdown",
   "metadata": {
    "application/vnd.databricks.v1+cell": {
     "cellMetadata": {},
     "inputWidgets": {},
     "nuid": "418b550d-beeb-4eee-a46e-971c13b432ac",
     "showTitle": false,
     "title": ""
    }
   },
   "source": [
    "## Operator precedence in calculations\n",
    "Mathematical operator precedence applies. Use brackets if you want to change the execution order:"
   ]
  },
  {
   "cell_type": "code",
   "execution_count": 0,
   "metadata": {
    "application/vnd.databricks.v1+cell": {
     "cellMetadata": {},
     "inputWidgets": {},
     "nuid": "283e21bc-e2c1-44e4-8eed-f6baf02a8bcc",
     "showTitle": false,
     "title": ""
    }
   },
   "outputs": [],
   "source": [
    "print(1 + 2**2 * 3 / 6)\n",
    "\n",
    "# 1 + 4 * 3 / 6 == 1 + 12 / 6 == 1 + 2\n",
    "print((1 + 2**2) * 3 / 6)"
   ]
  }
 ],
 "metadata": {
  "application/vnd.databricks.v1+notebook": {
   "dashboards": [],
   "language": "python",
   "notebookMetadata": {},
   "notebookName": "02_numbers",
   "widgets": {}
  },
  "kernelspec": {
   "display_name": "Python 3",
   "language": "python",
   "name": "python3"
  },
  "language_info": {
   "codemirror_mode": {
    "name": "ipython",
    "version": 3
   },
   "file_extension": ".py",
   "mimetype": "text/x-python",
   "name": "python",
   "nbconvert_exporter": "python",
   "pygments_lexer": "ipython3",
   "version": "3.5.4"
  }
 },
 "nbformat": 4,
 "nbformat_minor": 0
}
