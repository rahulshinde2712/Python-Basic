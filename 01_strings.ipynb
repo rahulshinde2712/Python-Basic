{
 "cells": [
  {
   "cell_type": "markdown",
   "metadata": {
    "application/vnd.databricks.v1+cell": {
     "cellMetadata": {},
     "inputWidgets": {},
     "nuid": "b650d47c-11d2-4559-8af3-f327dd93874d",
     "showTitle": false,
     "title": ""
    }
   },
   "source": [
    "# [Strings](https://docs.python.org/3/library/stdtypes.html#text-sequence-type-str)"
   ]
  },
  {
   "cell_type": "code",
   "execution_count": 0,
   "metadata": {
    "application/vnd.databricks.v1+cell": {
     "cellMetadata": {},
     "inputWidgets": {},
     "nuid": "c82184d3-e6a8-4adb-ae63-f8218f6c1dfc",
     "showTitle": false,
     "title": ""
    }
   },
   "outputs": [],
   "source": [
    "my_string = \"Hi This is rahul\""
   ]
  },
  {
   "cell_type": "code",
   "execution_count": 0,
   "metadata": {
    "application/vnd.databricks.v1+cell": {
     "cellMetadata": {},
     "inputWidgets": {},
     "nuid": "76b1f617-e121-43da-9c75-2676cdfc7286",
     "showTitle": false,
     "title": ""
    }
   },
   "outputs": [],
   "source": [
    "print(my_string)"
   ]
  },
  {
   "cell_type": "code",
   "execution_count": 0,
   "metadata": {
    "application/vnd.databricks.v1+cell": {
     "cellMetadata": {},
     "inputWidgets": {},
     "nuid": "59922ad4-6bd4-4487-9cd6-0552ac510255",
     "showTitle": false,
     "title": ""
    }
   },
   "outputs": [],
   "source": [
    "type(my_string)"
   ]
  },
  {
   "cell_type": "code",
   "execution_count": 0,
   "metadata": {
    "application/vnd.databricks.v1+cell": {
     "cellMetadata": {},
     "inputWidgets": {},
     "nuid": "c4de82da-df3b-4ecc-9251-f5bfa069bc37",
     "showTitle": false,
     "title": ""
    }
   },
   "outputs": [],
   "source": [
    "len(my_string)"
   ]
  },
  {
   "cell_type": "markdown",
   "metadata": {
    "application/vnd.databricks.v1+cell": {
     "cellMetadata": {},
     "inputWidgets": {},
     "nuid": "3ead6fc4-dab2-4f7e-bd6a-cd3d7d131294",
     "showTitle": false,
     "title": ""
    }
   },
   "source": [
    "### Respecting [PEP8](https://www.python.org/dev/peps/pep-0008/#maximum-line-length) with long strings"
   ]
  },
  {
   "cell_type": "code",
   "execution_count": 0,
   "metadata": {
    "application/vnd.databricks.v1+cell": {
     "cellMetadata": {},
     "inputWidgets": {},
     "nuid": "d8c86e7a-c0a7-4603-bd1d-7ad2b50855f8",
     "showTitle": false,
     "title": ""
    }
   },
   "outputs": [],
   "source": [
    "long_story = (\n",
    "    \"Lorem ipsum dolor sit amet, consectetur adipiscing elit.\"\n",
    "    \"Pellentesque eget tincidunt felis. Ut ac vestibulum est.\"\n",
    "    \"In sed ipsum sit amet sapien scelerisque bibendum. Sed \"\n",
    "    \"sagittis purus eu diam fermentum pellentesque.\"\n",
    ")\n",
    "long_story"
   ]
  },
  {
   "cell_type": "markdown",
   "metadata": {
    "application/vnd.databricks.v1+cell": {
     "cellMetadata": {},
     "inputWidgets": {},
     "nuid": "724f99d6-d7b3-4d45-a9bf-d10a374ed40c",
     "showTitle": false,
     "title": ""
    }
   },
   "source": [
    "## `str.replace()`"
   ]
  },
  {
   "cell_type": "markdown",
   "metadata": {
    "application/vnd.databricks.v1+cell": {
     "cellMetadata": {},
     "inputWidgets": {},
     "nuid": "2d072e81-4947-4fcc-b1fd-bbcd3bae6262",
     "showTitle": false,
     "title": ""
    }
   },
   "source": [
    "If you don't know how it works, you can always check the `help`:"
   ]
  },
  {
   "cell_type": "code",
   "execution_count": 0,
   "metadata": {
    "application/vnd.databricks.v1+cell": {
     "cellMetadata": {},
     "inputWidgets": {},
     "nuid": "14f80759-fa27-4168-a0bd-bd088c11abc8",
     "showTitle": false,
     "title": ""
    }
   },
   "outputs": [],
   "source": [
    "help(str.replace)"
   ]
  },
  {
   "cell_type": "markdown",
   "metadata": {
    "application/vnd.databricks.v1+cell": {
     "cellMetadata": {},
     "inputWidgets": {},
     "nuid": "a106b94a-dc9d-4b90-8baf-bea6952ce802",
     "showTitle": false,
     "title": ""
    }
   },
   "source": [
    "This will not modify `my_string` because replace is not done in-place."
   ]
  },
  {
   "cell_type": "code",
   "execution_count": 0,
   "metadata": {
    "application/vnd.databricks.v1+cell": {
     "cellMetadata": {},
     "inputWidgets": {},
     "nuid": "e89c1e4e-578a-4f39-b4c6-0b8918b42861",
     "showTitle": false,
     "title": ""
    }
   },
   "outputs": [],
   "source": [
    "my_string.replace(\"a\", \"?\")\n",
    "print(my_string)"
   ]
  },
  {
   "cell_type": "markdown",
   "metadata": {
    "application/vnd.databricks.v1+cell": {
     "cellMetadata": {},
     "inputWidgets": {},
     "nuid": "a1595772-0be2-4da3-ada8-f1b156947782",
     "showTitle": false,
     "title": ""
    }
   },
   "source": [
    "You have to store the return value of `replace` instead."
   ]
  },
  {
   "cell_type": "code",
   "execution_count": 0,
   "metadata": {
    "application/vnd.databricks.v1+cell": {
     "cellMetadata": {},
     "inputWidgets": {},
     "nuid": "399b488f-ed5b-4b2e-a9dd-9df31e9793ac",
     "showTitle": false,
     "title": ""
    }
   },
   "outputs": [],
   "source": [
    "my_modified_string = my_string.replace(\"is\", \"will be\")\n",
    "print(my_modified_string)"
   ]
  },
  {
   "cell_type": "markdown",
   "metadata": {
    "application/vnd.databricks.v1+cell": {
     "cellMetadata": {},
     "inputWidgets": {},
     "nuid": "1a38833a-e280-4c28-9d14-96bfdfb69790",
     "showTitle": false,
     "title": ""
    }
   },
   "source": [
    "## f-strings"
   ]
  },
  {
   "cell_type": "code",
   "execution_count": 0,
   "metadata": {
    "application/vnd.databricks.v1+cell": {
     "cellMetadata": {},
     "inputWidgets": {},
     "nuid": "7be86a8a-31e3-4467-a661-132ce3dace10",
     "showTitle": false,
     "title": ""
    }
   },
   "outputs": [],
   "source": [
    "first_name = \"John\"\n",
    "last_name = \"Doe\"\n",
    "age = 88\n",
    "\n",
    "\n",
    "print(\"My name is {} {},you can call me {}\".format(first_name,last_name,first_name))\n",
    "\n",
    "# print(f\"My name is \"{first_name} {last_name},\" you can call me\" {first_name}\"\") \n",
    "\n",
    "print(\"{} {} {}\".format(first_name,last_name,age))\n",
    "\n",
    "# print(f\"I'm {age} years old.\")"
   ]
  },
  {
   "cell_type": "code",
   "execution_count": 0,
   "metadata": {
    "application/vnd.databricks.v1+cell": {
     "cellMetadata": {},
     "inputWidgets": {},
     "nuid": "5bc5424e-1b6e-43e7-946c-f123b4e2cce5",
     "showTitle": false,
     "title": ""
    }
   },
   "outputs": [],
   "source": [
    "# print(f\"Use '=' to also print the variable name like this: {age=}\")\n",
    "print(\"Use '=' to also print the variable name like this: {}\".format(age))"
   ]
  },
  {
   "cell_type": "markdown",
   "metadata": {
    "application/vnd.databricks.v1+cell": {
     "cellMetadata": {},
     "inputWidgets": {},
     "nuid": "42f5bf73-1cc8-4cb9-8b65-f3a317384bcc",
     "showTitle": false,
     "title": ""
    }
   },
   "source": [
    "## `str.join()`"
   ]
  },
  {
   "cell_type": "code",
   "execution_count": 0,
   "metadata": {
    "application/vnd.databricks.v1+cell": {
     "cellMetadata": {},
     "inputWidgets": {},
     "nuid": "66d392f8-6502-4206-8fb2-f2fe46abf1ad",
     "showTitle": false,
     "title": ""
    }
   },
   "outputs": [],
   "source": [
    "pandas = \"10\"\n",
    "numpy = \"20\"\n",
    "requests = \"30\"\n",
    "cool_python_libs = \"| \".join([pandas, numpy, requests])\n",
    "print(cool_python_libs)"
   ]
  },
  {
   "cell_type": "code",
   "execution_count": 0,
   "metadata": {
    "application/vnd.databricks.v1+cell": {
     "cellMetadata": {},
     "inputWidgets": {},
     "nuid": "9ddfd489-74a2-49ae-85b1-9e27a649b0fa",
     "showTitle": false,
     "title": ""
    }
   },
   "outputs": [],
   "source": [
    "# print(f\"Some cool python libraries: {cool_python_libs}\")\n",
    "print(\"Some cool python libraries: {}\".format(cool_python_libs))"
   ]
  },
  {
   "cell_type": "markdown",
   "metadata": {
    "application/vnd.databricks.v1+cell": {
     "cellMetadata": {},
     "inputWidgets": {},
     "nuid": "6cee157c-c3f8-4540-8f21-03e5daabbe85",
     "showTitle": false,
     "title": ""
    }
   },
   "source": [
    "Alternative (not as [Pythonic](http://docs.python-guide.org/en/latest/writing/style/#idioms) and [slower](https://waymoot.org/home/python_string/)):"
   ]
  },
  {
   "cell_type": "code",
   "execution_count": 0,
   "metadata": {
    "application/vnd.databricks.v1+cell": {
     "cellMetadata": {},
     "inputWidgets": {},
     "nuid": "f7001b7b-0e89-4cce-9945-62bdcac84121",
     "showTitle": false,
     "title": ""
    }
   },
   "outputs": [],
   "source": [
    "cool_python_libs = pandas + \", \" + numpy + \", \" + requests\n",
    "print(f\"Some cool python libraries: {cool_python_libs}\")\n",
    "\n",
    "cool_python_libs = pandas\n",
    "cool_python_libs += \", \" + numpy\n",
    "cool_python_libs += \", \" + requests\n",
    "# print(f\"Some cool python libraries: {cool_python_libs}\")\n",
    "print(\"Some cool python libraries:{}\".format(cool_python_libs))"
   ]
  },
  {
   "cell_type": "markdown",
   "metadata": {
    "application/vnd.databricks.v1+cell": {
     "cellMetadata": {},
     "inputWidgets": {},
     "nuid": "e7a45277-81d4-4410-8701-24a047cfc29b",
     "showTitle": false,
     "title": ""
    }
   },
   "source": [
    "## `str.upper(), str.lower(), str.title()`"
   ]
  },
  {
   "cell_type": "code",
   "execution_count": 0,
   "metadata": {
    "application/vnd.databricks.v1+cell": {
     "cellMetadata": {},
     "inputWidgets": {},
     "nuid": "00badbf4-0a17-4eb5-b639-7a32f1b6490f",
     "showTitle": false,
     "title": ""
    }
   },
   "outputs": [],
   "source": [
    "mixed_case = \"PyTHoN hackER\""
   ]
  },
  {
   "cell_type": "code",
   "execution_count": 0,
   "metadata": {
    "application/vnd.databricks.v1+cell": {
     "cellMetadata": {},
     "inputWidgets": {},
     "nuid": "f0b484e5-b9b9-445d-804f-e59d385eaf02",
     "showTitle": false,
     "title": ""
    }
   },
   "outputs": [],
   "source": [
    "mixed_case.upper()"
   ]
  },
  {
   "cell_type": "code",
   "execution_count": 0,
   "metadata": {
    "application/vnd.databricks.v1+cell": {
     "cellMetadata": {},
     "inputWidgets": {},
     "nuid": "088bcf08-742e-490e-8f35-9e46392a4b95",
     "showTitle": false,
     "title": ""
    }
   },
   "outputs": [],
   "source": [
    "mixed_case.lower()"
   ]
  },
  {
   "cell_type": "code",
   "execution_count": 0,
   "metadata": {
    "application/vnd.databricks.v1+cell": {
     "cellMetadata": {},
     "inputWidgets": {},
     "nuid": "49d3b7fb-9068-45ca-94f1-676a8af2fa61",
     "showTitle": false,
     "title": ""
    }
   },
   "outputs": [],
   "source": [
    "mixed_case.title()"
   ]
  },
  {
   "cell_type": "code",
   "execution_count": 0,
   "metadata": {
    "application/vnd.databricks.v1+cell": {
     "cellMetadata": {},
     "inputWidgets": {},
     "nuid": "75ebb848-43c7-4a7c-bc73-5cdf23cc67a0",
     "showTitle": false,
     "title": ""
    }
   },
   "outputs": [],
   "source": [
    "mixed_case.capitalize()"
   ]
  },
  {
   "cell_type": "markdown",
   "metadata": {
    "application/vnd.databricks.v1+cell": {
     "cellMetadata": {},
     "inputWidgets": {},
     "nuid": "e5e89276-3df1-404e-ab59-ab2d680debd9",
     "showTitle": false,
     "title": ""
    }
   },
   "source": [
    "## `str.strip()`"
   ]
  },
  {
   "cell_type": "code",
   "execution_count": 0,
   "metadata": {
    "application/vnd.databricks.v1+cell": {
     "cellMetadata": {},
     "inputWidgets": {},
     "nuid": "f430331b-d02f-4209-9d77-c26eeed5de4a",
     "showTitle": false,
     "title": ""
    }
   },
   "outputs": [],
   "source": [
    "ugly_formatted = \"   \\n\\n      Some story to tell \"\n",
    "\n",
    "stripped = ugly_formatted.strip()\n",
    "\n",
    "print(\"ugly:{}\".format(ugly_formatted))\n",
    "print(\"stripped:{}\".format(stripped))"
   ]
  },
  {
   "cell_type": "markdown",
   "metadata": {
    "application/vnd.databricks.v1+cell": {
     "cellMetadata": {},
     "inputWidgets": {},
     "nuid": "cbec843d-75b2-4f53-b4ad-8963625b7622",
     "showTitle": false,
     "title": ""
    }
   },
   "source": [
    "## `str.split()`"
   ]
  },
  {
   "cell_type": "code",
   "execution_count": 0,
   "metadata": {
    "application/vnd.databricks.v1+cell": {
     "cellMetadata": {},
     "inputWidgets": {},
     "nuid": "212dc799-e9d0-4028-bfca-f0bc1fd904a2",
     "showTitle": false,
     "title": ""
    }
   },
   "outputs": [],
   "source": [
    "sentence = \"three different words\"\n",
    "words = sentence.split()\n",
    "print(words)"
   ]
  },
  {
   "cell_type": "code",
   "execution_count": 0,
   "metadata": {
    "application/vnd.databricks.v1+cell": {
     "cellMetadata": {},
     "inputWidgets": {},
     "nuid": "0e8b2954-b35d-44d3-86fa-0ca54b4a84df",
     "showTitle": false,
     "title": ""
    }
   },
   "outputs": [],
   "source": [
    "type(words)"
   ]
  },
  {
   "cell_type": "code",
   "execution_count": 0,
   "metadata": {
    "application/vnd.databricks.v1+cell": {
     "cellMetadata": {},
     "inputWidgets": {},
     "nuid": "7c4b53bd-8617-4537-9628-a61d6afcd76f",
     "showTitle": false,
     "title": ""
    }
   },
   "outputs": [],
   "source": [
    "secret_binary_data = \"01001,101101,11100000\"\n",
    "binaries = secret_binary_data.split(\",\")\n",
    "print(binaries)"
   ]
  },
  {
   "cell_type": "markdown",
   "metadata": {
    "application/vnd.databricks.v1+cell": {
     "cellMetadata": {},
     "inputWidgets": {},
     "nuid": "7044b151-59b3-49ed-ad6f-db3cec0fe37a",
     "showTitle": false,
     "title": ""
    }
   },
   "source": [
    "## Calling multiple methods in a row"
   ]
  },
  {
   "cell_type": "code",
   "execution_count": 0,
   "metadata": {
    "application/vnd.databricks.v1+cell": {
     "cellMetadata": {},
     "inputWidgets": {},
     "nuid": "06b07157-7c8b-4a44-a5ae-8345facc1155",
     "showTitle": false,
     "title": ""
    }
   },
   "outputs": [],
   "source": [
    "ugly_mixed_case = \"   ThIS LooKs BAd BaD\"\n",
    "pretty = ugly_mixed_case.strip().lower().replace(\"bad\", \"good\").capitalize().upper()\n",
    "print(pretty)"
   ]
  },
  {
   "cell_type": "markdown",
   "metadata": {
    "application/vnd.databricks.v1+cell": {
     "cellMetadata": {},
     "inputWidgets": {},
     "nuid": "55a94e62-b542-484a-ba2d-05c73e8998f4",
     "showTitle": false,
     "title": ""
    }
   },
   "source": [
    "Note that execution order is from left to right. Thus, this won't work:"
   ]
  },
  {
   "cell_type": "code",
   "execution_count": 0,
   "metadata": {
    "application/vnd.databricks.v1+cell": {
     "cellMetadata": {},
     "inputWidgets": {},
     "nuid": "4a6ed5f1-146f-406c-ae22-dbb297850a82",
     "showTitle": false,
     "title": ""
    }
   },
   "outputs": [],
   "source": [
    "pretty = ugly_mixed_case.replace(\"bad\", \"good\").strip().lower()\n",
    "print(pretty)"
   ]
  },
  {
   "cell_type": "markdown",
   "metadata": {
    "application/vnd.databricks.v1+cell": {
     "cellMetadata": {},
     "inputWidgets": {},
     "nuid": "feccbc8a-47ed-4cbb-9b40-ed277ea15f7d",
     "showTitle": false,
     "title": ""
    }
   },
   "source": [
    "## [Escape characters](http://python-reference.readthedocs.io/en/latest/docs/str/escapes.html#escape-characters)"
   ]
  },
  {
   "cell_type": "code",
   "execution_count": 0,
   "metadata": {
    "application/vnd.databricks.v1+cell": {
     "cellMetadata": {},
     "inputWidgets": {},
     "nuid": "6d169b5c-5257-4642-b359-ab6887d49264",
     "showTitle": false,
     "title": ""
    }
   },
   "outputs": [],
   "source": [
    "two_lines = \"Rahul\\n your record is sucessfully submited\"\n",
    "print(two_lines)"
   ]
  },
  {
   "cell_type": "code",
   "execution_count": 0,
   "metadata": {
    "application/vnd.databricks.v1+cell": {
     "cellMetadata": {},
     "inputWidgets": {},
     "nuid": "7c2d2f4d-b62a-4996-9030-07ffbdad4d46",
     "showTitle": false,
     "title": ""
    }
   },
   "outputs": [],
   "source": [
    "indented = \"\\tThis will be indented\"\n",
    "print(indented)"
   ]
  }
 ],
 "metadata": {
  "application/vnd.databricks.v1+notebook": {
   "dashboards": [],
   "language": "python",
   "notebookMetadata": {},
   "notebookName": "01_strings",
   "widgets": {}
  },
  "kernelspec": {
   "display_name": "Python 3",
   "language": "python",
   "name": "python3"
  },
  "language_info": {
   "codemirror_mode": {
    "name": "ipython",
    "version": 3
   },
   "file_extension": ".py",
   "mimetype": "text/x-python",
   "name": "python",
   "nbconvert_exporter": "python",
   "pygments_lexer": "ipython3",
   "version": "3.5.4"
  }
 },
 "nbformat": 4,
 "nbformat_minor": 0
}
