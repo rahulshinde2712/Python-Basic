{
 "cells": [
  {
   "cell_type": "code",
   "execution_count": 0,
   "metadata": {
    "application/vnd.databricks.v1+cell": {
     "cellMetadata": {},
     "inputWidgets": {},
     "nuid": "5e0e159c-044a-4128-a8c0-513cd562e4c9",
     "showTitle": false,
     "title": ""
    }
   },
   "outputs": [],
   "source": [
    "class MyFirstClass:\n",
    "    def __init__(self, name):\n",
    "        self.name = name\n",
    "\n",
    "    def greet(self):\n",
    "        print(\"Hello {}!\".format(self.name))"
   ]
  },
  {
   "cell_type": "code",
   "execution_count": 0,
   "metadata": {
    "application/vnd.databricks.v1+cell": {
     "cellMetadata": {},
     "inputWidgets": {},
     "nuid": "387ba6b2-83b2-44f7-ad4a-7ae3b27f9dfa",
     "showTitle": false,
     "title": ""
    }
   },
   "outputs": [],
   "source": [
    "my_instance = MyFirstClass(\"John Doe\")\n",
    "print(\"my_instance: {}\".format(my_instance))\n",
    "print(\"type: {}\".format(type(my_instance)))\n",
    "# print(\"my_instance.name: {}\".format(my_instance.name))"
   ]
  },
  {
   "cell_type": "markdown",
   "metadata": {
    "application/vnd.databricks.v1+cell": {
     "cellMetadata": {},
     "inputWidgets": {},
     "nuid": "227bc4a9-be5d-408a-a968-9049f5480009",
     "showTitle": false,
     "title": ""
    }
   },
   "source": [
    "## Methods\n",
    "The functions inside classes are called methods. They are used similarly as functions. "
   ]
  },
  {
   "cell_type": "code",
   "execution_count": 0,
   "metadata": {
    "application/vnd.databricks.v1+cell": {
     "cellMetadata": {},
     "inputWidgets": {},
     "nuid": "16718e1a-76b8-46e9-b225-412be2d3a446",
     "showTitle": false,
     "title": ""
    }
   },
   "outputs": [],
   "source": [
    "alice = MyFirstClass(name=\"Rahul Shinde\")\n",
    "alice.greet()"
   ]
  },
  {
   "cell_type": "markdown",
   "metadata": {
    "application/vnd.databricks.v1+cell": {
     "cellMetadata": {},
     "inputWidgets": {},
     "nuid": "53aaeb72-bad3-4bee-86a1-6c00ea1dfbb6",
     "showTitle": false,
     "title": ""
    }
   },
   "source": [
    "### `__init__()`\n",
    "`__init__()` is a special method that is used for initialising instances of the class. It's called when you create an instance of the class. "
   ]
  },
  {
   "cell_type": "code",
   "execution_count": 0,
   "metadata": {
    "application/vnd.databricks.v1+cell": {
     "cellMetadata": {},
     "inputWidgets": {},
     "nuid": "e9ac8567-f7ed-48df-87f2-5327a47a7bed",
     "showTitle": false,
     "title": ""
    }
   },
   "outputs": [],
   "source": [
    "class Example:\n",
    "    def __init__(self):\n",
    "        print(\"Now we are inside __init__\")\n",
    "\n",
    "\n",
    "print(\"creating instance of Example\")\n",
    "example = Example()\n",
    "print(\"instance created\")"
   ]
  },
  {
   "cell_type": "markdown",
   "metadata": {
    "application/vnd.databricks.v1+cell": {
     "cellMetadata": {},
     "inputWidgets": {},
     "nuid": "5148c6ea-71da-47c1-89ab-c6b6dcfca8d5",
     "showTitle": false,
     "title": ""
    }
   },
   "source": [
    "`__init__()` is typically used for initialising instance variables of your class. These can be listed as arguments after `self`. To be able to access these instance variables later during your instance's lifetime, you have to save them into `self`. `self` is the first argument of the methods of your class and it's your access to the instance variables and other methods. "
   ]
  },
  {
   "cell_type": "code",
   "execution_count": 0,
   "metadata": {
    "application/vnd.databricks.v1+cell": {
     "cellMetadata": {},
     "inputWidgets": {},
     "nuid": "ccb43ad3-560a-4bd6-ad73-346a05164a87",
     "showTitle": false,
     "title": ""
    }
   },
   "outputs": [],
   "source": [
    "class Example:\n",
    "    def __init__(self, var1, var2):\n",
    "        self.first_var = var1\n",
    "        self.second_var = var2\n",
    "\n",
    "    def print_variables(self):\n",
    "        print(\"{} {}\".format(self.first_var,self.second_var))\n",
    "\n",
    "\n",
    "e = Example(\"abc\", 123)\n",
    "e.print_variables()"
   ]
  },
  {
   "cell_type": "markdown",
   "metadata": {
    "application/vnd.databricks.v1+cell": {
     "cellMetadata": {},
     "inputWidgets": {},
     "nuid": "d9c1b3a7-580c-45c2-9df5-401e11239c53",
     "showTitle": false,
     "title": ""
    }
   },
   "source": [
    "### `__str__()`\n",
    "`__str__()` is a special method which is called when an instance of the class is converted to string (e.g. when you want to print the instance). In other words, by defining `__str__` method for your class, you can decide what's the printable version of the instances of your class. The method should return a string."
   ]
  },
  {
   "cell_type": "code",
   "execution_count": 0,
   "metadata": {
    "application/vnd.databricks.v1+cell": {
     "cellMetadata": {},
     "inputWidgets": {},
     "nuid": "24c3c600-4287-4133-8eef-524c886a1cc8",
     "showTitle": false,
     "title": ""
    }
   },
   "outputs": [],
   "source": [
    "class Person:\n",
    "    def __init__(self, name, age):\n",
    "        self.name = name\n",
    "        self.age = age\n",
    "\n",
    "    def __str__(self):\n",
    "        return \"Person: {}.\".format(self.name)\n",
    "\n",
    "\n",
    "jack = Person(\"Jack\", 82)\n",
    "print(\"This is the string presentation of jack: {}\".format(jack))"
   ]
  },
  {
   "cell_type": "markdown",
   "metadata": {
    "application/vnd.databricks.v1+cell": {
     "cellMetadata": {},
     "inputWidgets": {},
     "nuid": "1084dd9d-ee86-4e36-bc36-26f4a8738b1d",
     "showTitle": false,
     "title": ""
    }
   },
   "source": [
    "## Class variables vs instance variables\n",
    "Class variables are shared between all the instances of that class whereas instance variables can hold different values between different instances of that class."
   ]
  },
  {
   "cell_type": "code",
   "execution_count": 0,
   "metadata": {
    "application/vnd.databricks.v1+cell": {
     "cellMetadata": {},
     "inputWidgets": {},
     "nuid": "a4c34b38-1f73-4dbe-ab75-f1904784fe92",
     "showTitle": false,
     "title": ""
    }
   },
   "outputs": [],
   "source": [
    "class Example:\n",
    "    # These are class variables\n",
    "    name = \"Example class\"\n",
    "    description = \"Just an example of a simple class\"\n",
    "\n",
    "    def __init__(self, var1):\n",
    "        # This is an instance variable\n",
    "        self.instance_variable = var1\n",
    "\n",
    "    def show_info(self):\n",
    "        info = \"instance_variable: {}, name: {}, description: {}\".format(self.instance_variable,Example.name,Example.description)\n",
    "        print(info)\n",
    "\n",
    "\n",
    "inst1 = Example(\"foo\")\n",
    "inst2 = Example(\"bar\")\n",
    "\n",
    "# name and description have identical values between instances\n",
    "assert inst1.name == inst2.name == Example.name\n",
    "assert inst1.description == inst2.description == Example.description\n",
    "\n",
    "# If you change the value of a class variable, it's changed across all instances\n",
    "Example.name = \"Modified name\"\n",
    "inst1.show_info()\n",
    "inst2.show_info()"
   ]
  },
  {
   "cell_type": "code",
   "execution_count": 0,
   "metadata": {
    "application/vnd.databricks.v1+cell": {
     "cellMetadata": {},
     "inputWidgets": {},
     "nuid": "54b5f56a-0993-4bff-a5da-a85b45e7810a",
     "showTitle": false,
     "title": ""
    }
   },
   "outputs": [],
   "source": [
    "## MAIN Function \n",
    "class main:\n",
    "    def __init__(self):\n",
    "        print(\"Class is active\")\n",
    "\n",
    "if __name__==\"__main__\":\n",
    "    main()"
   ]
  },
  {
   "cell_type": "code",
   "execution_count": 0,
   "metadata": {
    "application/vnd.databricks.v1+cell": {
     "cellMetadata": {},
     "inputWidgets": {},
     "nuid": "618fc169-07c6-4735-a7b6-1c767c5534d0",
     "showTitle": false,
     "title": ""
    }
   },
   "outputs": [],
   "source": []
  }
 ],
 "metadata": {
  "application/vnd.databricks.v1+notebook": {
   "dashboards": [],
   "language": "python",
   "notebookMetadata": {},
   "notebookName": "08_classes",
   "widgets": {}
  },
  "kernelspec": {
   "display_name": "Python 3",
   "language": "python",
   "name": "python3"
  },
  "language_info": {
   "codemirror_mode": {
    "name": "ipython",
    "version": 3
   },
   "file_extension": ".py",
   "mimetype": "text/x-python",
   "name": "python",
   "nbconvert_exporter": "python",
   "pygments_lexer": "ipython3",
   "version": "3.5.4"
  }
 },
 "nbformat": 4,
 "nbformat_minor": 0
}
