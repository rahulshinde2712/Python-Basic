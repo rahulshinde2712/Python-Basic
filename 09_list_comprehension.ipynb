{
 "cells": [
  {
   "cell_type": "code",
   "execution_count": 0,
   "metadata": {
    "application/vnd.databricks.v1+cell": {
     "cellMetadata": {},
     "inputWidgets": {},
     "nuid": "8b032c94-7433-4392-beeb-be2c6ae15347",
     "showTitle": false,
     "title": ""
    }
   },
   "outputs": [],
   "source": [
    "#normal List\n",
    "fruits = [\"apple\", \"banana\", \"cherry\", \"kiwi\", \"mango\"]\n",
    "newlist = []\n",
    "\n",
    "for x in fruits:\n",
    "    if \"a\" in x:\n",
    "        newlist.append(x)\n",
    "\n",
    "print(newlist)\n"
   ]
  },
  {
   "cell_type": "code",
   "execution_count": 0,
   "metadata": {
    "application/vnd.databricks.v1+cell": {
     "cellMetadata": {},
     "inputWidgets": {},
     "nuid": "dffa28da-e4e2-411f-b4e5-cf80da140bf2",
     "showTitle": false,
     "title": ""
    }
   },
   "outputs": [],
   "source": [
    "fruits = [\"apple\", \"banana\", \"cherry\", \"kiwi\", \"mango\"]\n",
    "\n",
    "#syntax : [expression for element in iterable if condition]\n",
    "\n",
    "newlist = [x for x in fruits if \"c\" in x]\n",
    "\n",
    "print(newlist)"
   ]
  },
  {
   "cell_type": "code",
   "execution_count": 0,
   "metadata": {
    "application/vnd.databricks.v1+cell": {
     "cellMetadata": {},
     "inputWidgets": {},
     "nuid": "c41aef4c-9a6f-4c3c-993f-a1dc94c85a92",
     "showTitle": false,
     "title": ""
    }
   },
   "outputs": [],
   "source": [
    "#print evenno using list comprension\n",
    "\n",
    "list1 = [1, 2, 3, 4, 5, 6, 7, 8, 9,10]\n",
    "\n",
    "def get_evens(input_list):\n",
    "    output = [x for x in input_list if x % 2 == 0]\n",
    "    return output\n",
    "\n",
    "print(get_evens(list1))"
   ]
  },
  {
   "cell_type": "code",
   "execution_count": 0,
   "metadata": {
    "application/vnd.databricks.v1+cell": {
     "cellMetadata": {},
     "inputWidgets": {},
     "nuid": "d6ec3376-07b8-4ee9-8740-84abfe308db4",
     "showTitle": false,
     "title": ""
    }
   },
   "outputs": [],
   "source": [
    "#User define input\n",
    "\n",
    "n = int(input(\"Enter number for list : \"))\n",
    "f = int(input(\"Enter number for first no : \"))\n",
    "\n",
    "my_list = [x for x in range(f,n) if x % 2 == 0]\n",
    "print(my_list)"
   ]
  },
  {
   "cell_type": "code",
   "execution_count": 0,
   "metadata": {
    "application/vnd.databricks.v1+cell": {
     "cellMetadata": {},
     "inputWidgets": {},
     "nuid": "0c34d243-5090-4b97-818e-69ad3bb4d308",
     "showTitle": false,
     "title": ""
    }
   },
   "outputs": [],
   "source": [
    "def get_even_no(f,l):\n",
    "    return [x for x in range(f,l) if x % 2 == 0]\n",
    "\n",
    "\n",
    "n = int(input(\"Enter number for list : \"))\n",
    "f = int(input(\"Enter number for first no : \"))\n",
    "print(get_even_no(f,n))\n"
   ]
  },
  {
   "cell_type": "code",
   "execution_count": 0,
   "metadata": {
    "application/vnd.databricks.v1+cell": {
     "cellMetadata": {},
     "inputWidgets": {},
     "nuid": "d3189d93-2249-4796-9829-49ec1595ee6c",
     "showTitle": false,
     "title": ""
    }
   },
   "outputs": [],
   "source": [
    "output_list = [i.lower().title() for i in ['RAHUL','SHINDE']]\n",
    "print(output_list)\n"
   ]
  },
  {
   "cell_type": "code",
   "execution_count": 0,
   "metadata": {
    "application/vnd.databricks.v1+cell": {
     "cellMetadata": {},
     "inputWidgets": {},
     "nuid": "e254bb49-3fde-44d3-9dd2-4c5efb66cada",
     "showTitle": false,
     "title": ""
    }
   },
   "outputs": [],
   "source": [
    "#Python Lambdafunction\n",
    "#lambda arguments : expression\n",
    "\n",
    "x = lambda a : a + 10\n",
    "print(x(20))"
   ]
  },
  {
   "cell_type": "code",
   "execution_count": 0,
   "metadata": {
    "application/vnd.databricks.v1+cell": {
     "cellMetadata": {},
     "inputWidgets": {},
     "nuid": "2b9a8b91-a480-4181-b987-18e227e22e38",
     "showTitle": false,
     "title": ""
    }
   },
   "outputs": [],
   "source": [
    "#Multiple argument\n",
    "x = lambda a, b : a * b\n",
    "print(x(5, 6))"
   ]
  },
  {
   "cell_type": "code",
   "execution_count": 0,
   "metadata": {
    "application/vnd.databricks.v1+cell": {
     "cellMetadata": {},
     "inputWidgets": {},
     "nuid": "ea3e6ab3-8045-46bf-b734-8f6891433ded",
     "showTitle": false,
     "title": ""
    }
   },
   "outputs": [],
   "source": [
    "#lambda using function \n",
    "def myfunc(n):\n",
    "    return lambda a : a * n\n",
    "\n",
    "mydoubler = myfunc(2)\n",
    "\n",
    "print(mydoubler(10))\n"
   ]
  },
  {
   "cell_type": "code",
   "execution_count": 0,
   "metadata": {
    "application/vnd.databricks.v1+cell": {
     "cellMetadata": {},
     "inputWidgets": {},
     "nuid": "eb7eb9ab-925f-43ce-ad1b-3effc11ae819",
     "showTitle": false,
     "title": ""
    }
   },
   "outputs": [],
   "source": [
    "#lambda using list comprension\n",
    "\n",
    "square_numbers = lambda numbers: [x**2 for x in numbers ]\n",
    "\n",
    "numbers = [1, 2, 3, 4, 5,6,7]\n",
    "squares = square_numbers(numbers)\n",
    "print(squares)"
   ]
  },
  {
   "cell_type": "code",
   "execution_count": 0,
   "metadata": {
    "application/vnd.databricks.v1+cell": {
     "cellMetadata": {},
     "inputWidgets": {},
     "nuid": "180d3777-b393-4d96-be6e-f90edda64bf4",
     "showTitle": false,
     "title": ""
    }
   },
   "outputs": [],
   "source": [
    "#lambda using list comprension\n",
    "\n",
    "square_numbers = lambda numbers,no: [x**2 for x in numbers if x < no ]\n",
    "\n",
    "numbers = [1, 2, 3, 4, 5,6,7]\n",
    "no=6\n",
    "squares = square_numbers(numbers,no)\n",
    "print(squares)\n"
   ]
  },
  {
   "cell_type": "code",
   "execution_count": 0,
   "metadata": {
    "application/vnd.databricks.v1+cell": {
     "cellMetadata": {},
     "inputWidgets": {},
     "nuid": "a14e88bc-00b3-41d0-b852-50d7210b7800",
     "showTitle": false,
     "title": ""
    }
   },
   "outputs": [],
   "source": [
    "def square_num(lintn,cno):\n",
    "    return lambda lintn,cno: [x**2 for x in lintn if x < cno ]\n",
    "\n",
    "# no = int(input(\"Enter number of list :\"))\n",
    "# cno = int(input(\"Enter Maxno :\"))\n",
    "\n",
    "# i = 0\n",
    "# mylist =[]\n",
    "\n",
    "# if no > i:\n",
    "#     for i in range(no):\n",
    "#         v = int(input(\"Enter no:\"))\n",
    "#         mylist.append(v)\n",
    "#         i = i+1\n",
    "\n",
    "numbers = [1, 2, 3, 4, 5,6,7]\n",
    "no=6\n",
    "\n",
    "s = square_num(numbers,no)\n",
    "\n",
    "print(s)"
   ]
  },
  {
   "cell_type": "code",
   "execution_count": 0,
   "metadata": {
    "application/vnd.databricks.v1+cell": {
     "cellMetadata": {},
     "inputWidgets": {},
     "nuid": "c9f3835f-b819-4048-82c9-4bc859e9f444",
     "showTitle": false,
     "title": ""
    }
   },
   "outputs": [],
   "source": [
    "#Lambda function to return the length of strings in the list\n",
    "len_of_strings = lambda names: [len(x) for x in names]\n",
    "\n",
    "names = ['apple', 'banana', 'fig']\n",
    "lengths = len_of_strings(names)\n",
    "print(lengths)"
   ]
  },
  {
   "cell_type": "code",
   "execution_count": 0,
   "metadata": {
    "application/vnd.databricks.v1+cell": {
     "cellMetadata": {},
     "inputWidgets": {},
     "nuid": "f29d1754-26c1-4ccd-bb8d-6a789a2589a1",
     "showTitle": false,
     "title": ""
    }
   },
   "outputs": [],
   "source": [
    "#Map function using Lambda\n",
    "my_list = [0,1,2,3,4,5,6]\n",
    "x = map(lambda x: x+5,my_list)\n",
    "print(list(x))"
   ]
  },
  {
   "cell_type": "code",
   "execution_count": 0,
   "metadata": {
    "application/vnd.databricks.v1+cell": {
     "cellMetadata": {},
     "inputWidgets": {},
     "nuid": "ad31a2f4-a3bf-459a-9f48-4b29c7e0b96e",
     "showTitle": false,
     "title": ""
    }
   },
   "outputs": [],
   "source": [
    "def addition(n):\n",
    "    return n + n\n",
    " \n",
    "# We double all numbers using map()\n",
    "numbers = (1, 2, 3, 4)\n",
    "result = map(addition, numbers)\n",
    "print(list(result))"
   ]
  },
  {
   "cell_type": "code",
   "execution_count": 0,
   "metadata": {
    "application/vnd.databricks.v1+cell": {
     "cellMetadata": {},
     "inputWidgets": {},
     "nuid": "18325bc0-c4d9-4e14-84fc-5fa27e8f69aa",
     "showTitle": false,
     "title": ""
    }
   },
   "outputs": [],
   "source": [
    " \n",
    "# We double all numbers using map()\n",
    "numbers = (1, 2, 3, 4)\n",
    "result = map(lambda x : x + x, numbers)\n",
    "print(list(result))"
   ]
  },
  {
   "cell_type": "code",
   "execution_count": 0,
   "metadata": {
    "application/vnd.databricks.v1+cell": {
     "cellMetadata": {},
     "inputWidgets": {},
     "nuid": "4c17fdce-5b54-4b8d-933d-a9fd57ea6d5a",
     "showTitle": false,
     "title": ""
    }
   },
   "outputs": [],
   "source": [
    "my_list1 = [0,1,2,3,4,5,6]\n",
    "y= filter(lambda x: x>1 and x<5,my_list)\n",
    "print(list(y))\n",
    "\n",
    "def filter_list_object(n):\n",
    "    if n > 1 and n < 5:\n",
    "        return n\n",
    "\n",
    "result = filter(filter_list_object,my_list1)\n",
    "print(list(result))\n",
    "    "
   ]
  },
  {
   "cell_type": "code",
   "execution_count": 0,
   "metadata": {
    "application/vnd.databricks.v1+cell": {
     "cellMetadata": {},
     "inputWidgets": {},
     "nuid": "476d303b-2744-49a0-9979-049073c9d085",
     "showTitle": false,
     "title": ""
    }
   },
   "outputs": [],
   "source": [
    "import functools\n",
    "my_list2 = [0,1,2,3,4,5,6]\n",
    "z = functools.reduce(lambda x,y: x+y,my_list2)\n",
    "print(z)"
   ]
  },
  {
   "cell_type": "code",
   "execution_count": 0,
   "metadata": {
    "application/vnd.databricks.v1+cell": {
     "cellMetadata": {},
     "inputWidgets": {},
     "nuid": "130f42df-8f8a-4138-9651-fb47fbed5d0d",
     "showTitle": false,
     "title": ""
    }
   },
   "outputs": [],
   "source": [
    "values = [1, 2, 3]\n",
    "doubles = map(lambda x: x * 2, values)\n",
    "print(list(doubles))"
   ]
  },
  {
   "cell_type": "code",
   "execution_count": 0,
   "metadata": {
    "application/vnd.databricks.v1+cell": {
     "cellMetadata": {},
     "inputWidgets": {},
     "nuid": "f11c5df7-9b5b-4c2c-bf80-e1dddaa15a98",
     "showTitle": false,
     "title": ""
    }
   },
   "outputs": [],
   "source": [
    "abc = [(lambda x: x*x)(x) for x in range(10)]\n",
    "print(abc)"
   ]
  },
  {
   "cell_type": "code",
   "execution_count": 0,
   "metadata": {
    "application/vnd.databricks.v1+cell": {
     "cellMetadata": {},
     "inputWidgets": {},
     "nuid": "d6cc02ce-59d5-4d76-ab13-b087ce557a19",
     "showTitle": false,
     "title": ""
    }
   },
   "outputs": [],
   "source": []
  }
 ],
 "metadata": {
  "application/vnd.databricks.v1+notebook": {
   "dashboards": [],
   "language": "python",
   "notebookMetadata": {},
   "notebookName": "09_list_comprehension",
   "widgets": {}
  },
  "kernelspec": {
   "display_name": "Python 3",
   "language": "python",
   "name": "python3"
  },
  "language_info": {
   "codemirror_mode": {
    "name": "ipython",
    "version": 3
   },
   "file_extension": ".py",
   "mimetype": "text/x-python",
   "name": "python",
   "nbconvert_exporter": "python",
   "pygments_lexer": "ipython3",
   "version": "3.5.4"
  }
 },
 "nbformat": 4,
 "nbformat_minor": 0
}
