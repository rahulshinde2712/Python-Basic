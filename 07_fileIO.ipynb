{
 "cells": [
  {
   "cell_type": "markdown",
   "metadata": {
    "application/vnd.databricks.v1+cell": {
     "cellMetadata": {},
     "inputWidgets": {},
     "nuid": "246afd1e-2523-4cb7-8954-212f2def477b",
     "showTitle": false,
     "title": ""
    }
   },
   "source": [
    "# [File I/O](https://docs.python.org/3/tutorial/inputoutput.html#reading-and-writing-files)\n",
    "Reading and writing files."
   ]
  },
  {
   "cell_type": "markdown",
   "metadata": {
    "application/vnd.databricks.v1+cell": {
     "cellMetadata": {},
     "inputWidgets": {},
     "nuid": "98a56e53-e04e-4f0b-8d99-c6576e5e4859",
     "showTitle": false,
     "title": ""
    }
   },
   "source": [
    "## Working with paths"
   ]
  },
  {
   "cell_type": "code",
   "execution_count": 0,
   "metadata": {
    "application/vnd.databricks.v1+cell": {
     "cellMetadata": {},
     "inputWidgets": {},
     "nuid": "9993f1f4-0be3-41da-a953-36587a1ef30c",
     "showTitle": false,
     "title": ""
    }
   },
   "outputs": [],
   "source": [
    "from pathlib import Path\n",
    "\n",
    "current_file = Path(\"./files/Mara.txt\").resolve()\n",
    "\n",
    "print(\"current file: {}\".format(current_file))\n",
    "# Note: in .py files you can get the path of current file by Path(__file__)\n",
    "\n",
    "current_dir = current_file.parent\n",
    "print(\"current directory: {}\".format(current_dir))\n",
    "\n",
    "data_dir = current_dir.parent  / \"files\" \n",
    "print(\"data directory: {}\".format(data_dir))"
   ]
  },
  {
   "cell_type": "markdown",
   "metadata": {
    "application/vnd.databricks.v1+cell": {
     "cellMetadata": {},
     "inputWidgets": {},
     "nuid": "5d8fe1f5-32c0-409a-a290-ff288563d600",
     "showTitle": false,
     "title": ""
    }
   },
   "source": [
    "### Checking if path exists"
   ]
  },
  {
   "cell_type": "code",
   "execution_count": 0,
   "metadata": {
    "application/vnd.databricks.v1+cell": {
     "cellMetadata": {},
     "inputWidgets": {},
     "nuid": "e9b18185-d59b-4661-bc8a-012349fad419",
     "showTitle": false,
     "title": ""
    }
   },
   "outputs": [],
   "source": [
    "print(\"exists: {}\".format(data_dir.exists()))\n",
    "print(\"is file: {}\".format(data_dir.is_file()))\n",
    "print(\"is directory: {}\".format(data_dir.is_dir()))"
   ]
  },
  {
   "cell_type": "markdown",
   "metadata": {
    "application/vnd.databricks.v1+cell": {
     "cellMetadata": {},
     "inputWidgets": {},
     "nuid": "dfb2819b-64ce-4fb4-ae74-4df20dda443c",
     "showTitle": false,
     "title": ""
    }
   },
   "source": [
    "## Reading files"
   ]
  },
  {
   "cell_type": "code",
   "execution_count": 0,
   "metadata": {
    "application/vnd.databricks.v1+cell": {
     "cellMetadata": {},
     "inputWidgets": {},
     "nuid": "4ddea0d8-8a36-40c3-ad34-0e6f6e997502",
     "showTitle": false,
     "title": ""
    }
   },
   "outputs": [],
   "source": [
    "import os\n",
    "\n",
    "data_dir = \"./files\"\n",
    "file_path = os.path.join(data_dir, \"simple_file.txt\")\n",
    "\n",
    "with open(file_path, \"r\") as simple_file:\n",
    "    for line in simple_file:\n",
    "        print(line.strip())"
   ]
  },
  {
   "cell_type": "markdown",
   "metadata": {
    "application/vnd.databricks.v1+cell": {
     "cellMetadata": {},
     "inputWidgets": {},
     "nuid": "e54171a1-2dd9-4749-a14d-e6762a4eb15e",
     "showTitle": false,
     "title": ""
    }
   },
   "source": [
    "The [`with`](https://docs.python.org/3/reference/compound_stmts.html#the-with-statement) statement is for obtaining a [context manager](https://docs.python.org/3/reference/datamodel.html#with-statement-context-managers) that will be used as an execution context for the commands inside the `with`. Context managers guarantee that certain operations are done when exiting the context. \n",
    "\n",
    "In this case, the context manager guarantees that `simple_file.close()` is implicitly called when exiting the context. This is a way to make developers life easier: you don't have to remember to explicitly close the file you openened nor be worried about an exception occuring while the file is open. Unclosed file maybe a source of a resource leak. Thus, prefer using `with open()` structure always with file I/O.\n",
    "\n",
    "To have an example, the same as above without the `with`."
   ]
  },
  {
   "cell_type": "code",
   "execution_count": 0,
   "metadata": {
    "application/vnd.databricks.v1+cell": {
     "cellMetadata": {},
     "inputWidgets": {},
     "nuid": "a800fcbc-336e-4586-a8e4-9a34a42205d7",
     "showTitle": false,
     "title": ""
    }
   },
   "outputs": [],
   "source": [
    "import os\n",
    "\n",
    "data_dir = \"./files\"\n",
    "file_path = os.path.join(data_dir, \"simple_file.txt\")\n",
    "\n",
    "with open(file_path, \"r\") as simple_file:\n",
    "    for line in simple_file:\n",
    "        print(line.strip())\n",
    "simple_file.close()  # This has to be called explicitly"
   ]
  },
  {
   "cell_type": "markdown",
   "metadata": {
    "application/vnd.databricks.v1+cell": {
     "cellMetadata": {},
     "inputWidgets": {},
     "nuid": "051e9fa0-7e27-4b64-a438-4099328b8f88",
     "showTitle": false,
     "title": ""
    }
   },
   "source": [
    "## Writing files"
   ]
  },
  {
   "cell_type": "code",
   "execution_count": 0,
   "metadata": {
    "application/vnd.databricks.v1+cell": {
     "cellMetadata": {},
     "inputWidgets": {},
     "nuid": "e904bd76-2122-48df-88fc-c6e1a59baa09",
     "showTitle": false,
     "title": ""
    }
   },
   "outputs": [],
   "source": [
    "import os\n",
    "\n",
    "data_dir = \"./files\"\n",
    "new_file_path = os.path.join(data_dir, \"Rahul.txt\")\n",
    "\n",
    "with open(new_file_path, \"a\") as my_file:\n",
    "    my_file.write(\"\\nThis is my task\\naskjdsakjk\\n\\t\\t\\tThanks\")"
   ]
  },
  {
   "cell_type": "code",
   "execution_count": 0,
   "metadata": {
    "application/vnd.databricks.v1+cell": {
     "cellMetadata": {},
     "inputWidgets": {},
     "nuid": "b74dfa2f-c13c-47a7-a69b-1351dde43632",
     "showTitle": false,
     "title": ""
    }
   },
   "outputs": [],
   "source": [
    "########Read tabdilimited file\n",
    "\n",
    "import os,csv\n",
    "\n",
    "data_dir = \"./files\"\n",
    "file_path = os.path.join(data_dir, \"Mara.txt\")\n",
    "\n",
    "if os.path.exists(file_path):\n",
    "    csvDictReader = csv.DictReader(open(file_path), delimiter = '\\t' )\n",
    "    for each_row in csvDictReader:\n",
    "        material = each_row['MATNR']\n",
    "        material_type = each_row['MTART']\n",
    "        print(\"Material :{}  and Materail Type : {}\".format(material,material_type))\n",
    "#         if each_row['MATNR'] =='32007588P':\n",
    "#             print(\"Material :{}  and Materail Type : {}\".format(each_row['MATNR'],each_row['MTART']))\n",
    "    "
   ]
  },
  {
   "cell_type": "code",
   "execution_count": 0,
   "metadata": {
    "application/vnd.databricks.v1+cell": {
     "cellMetadata": {},
     "inputWidgets": {},
     "nuid": "86683790-7993-4ca7-9a17-99ddb19688eb",
     "showTitle": false,
     "title": ""
    }
   },
   "outputs": [],
   "source": [
    "########Read tabdilimited file\n",
    "\n",
    "import os,csv\n",
    "\n",
    "data_dir = \"./files\"\n",
    "file_path = os.path.join(data_dir, \"Mara.csv\")\n",
    "\n",
    "if os.path.exists(file_path):\n",
    "    csvDictReader = csv.DictReader(open(file_path), delimiter = ',' )\n",
    "    for each_row in csvDictReader:\n",
    "        material = each_row['MATNR']\n",
    "        material_type = each_row['MTART']\n",
    "        print(\"Material :{}  and Materail Type : {}\".format(material,material_type))\n",
    "    "
   ]
  },
  {
   "cell_type": "code",
   "execution_count": 0,
   "metadata": {
    "application/vnd.databricks.v1+cell": {
     "cellMetadata": {},
     "inputWidgets": {},
     "nuid": "13ab4301-69a6-45e4-8799-8b5dfd931d6e",
     "showTitle": false,
     "title": ""
    }
   },
   "outputs": [],
   "source": [
    "#read excel file\n",
    "\n",
    "from openpyxl import load_workbook\n",
    "\n",
    "\n",
    "# Open up the Excel file.\n",
    "workbook = load_workbook(filename=\"./files/Mara.xlsx\")\n",
    "\n",
    "# Get the first sheet.\n",
    "worksheet = workbook.worksheets[0]\n",
    "\n",
    "# Convert the sheet to a list of lists.\n",
    "row_list = []\n",
    "for r in worksheet.rows:\n",
    "    column = [cell.value for cell in r]\n",
    "    row_list.append(column)\n",
    "    "
   ]
  },
  {
   "cell_type": "code",
   "execution_count": 0,
   "metadata": {
    "application/vnd.databricks.v1+cell": {
     "cellMetadata": {},
     "inputWidgets": {},
     "nuid": "4aa95aaa-81ed-446f-9343-8486e5903b2e",
     "showTitle": false,
     "title": ""
    }
   },
   "outputs": [],
   "source": [
    "print(row_list)"
   ]
  },
  {
   "cell_type": "code",
   "execution_count": 0,
   "metadata": {
    "application/vnd.databricks.v1+cell": {
     "cellMetadata": {},
     "inputWidgets": {},
     "nuid": "e9525ba7-1961-4339-9106-61ae9e5f3aa3",
     "showTitle": false,
     "title": ""
    }
   },
   "outputs": [],
   "source": [
    "\n",
    "import pandas as pd\n",
    "\n",
    "# In pandas, it's one easy line. Pretty nice.\n",
    "df = pd.read_excel(\"./files/Mara.xlsx\")\n",
    "print(df)"
   ]
  }
 ],
 "metadata": {
  "application/vnd.databricks.v1+notebook": {
   "dashboards": [],
   "language": "python",
   "notebookMetadata": {},
   "notebookName": "07_fileIO",
   "widgets": {}
  },
  "kernelspec": {
   "display_name": "Python 3",
   "language": "python",
   "name": "python3"
  },
  "language_info": {
   "codemirror_mode": {
    "name": "ipython",
    "version": 3
   },
   "file_extension": ".py",
   "mimetype": "text/x-python",
   "name": "python",
   "nbconvert_exporter": "python",
   "pygments_lexer": "ipython3",
   "version": "3.5.4"
  }
 },
 "nbformat": 4,
 "nbformat_minor": 0
}
