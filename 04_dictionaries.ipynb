{
 "cells": [
  {
   "cell_type": "markdown",
   "metadata": {
    "application/vnd.databricks.v1+cell": {
     "cellMetadata": {},
     "inputWidgets": {},
     "nuid": "024d91dc-fb1f-440d-885c-fb210d1b3d90",
     "showTitle": false,
     "title": ""
    }
   },
   "source": [
    "# [Dictionaries](https://docs.python.org/3/library/stdtypes.html#dict) \n",
    "Collections of `key`-`value` pairs. "
   ]
  },
  {
   "cell_type": "code",
   "execution_count": 0,
   "metadata": {
    "application/vnd.databricks.v1+cell": {
     "cellMetadata": {},
     "inputWidgets": {},
     "nuid": "fbee4b22-4257-48f3-80e1-783013fd883b",
     "showTitle": false,
     "title": ""
    }
   },
   "outputs": [],
   "source": [
    "my_empty_dict = {}  # alternative: my_empty_dict = dict()\n",
    "print(\"dict: {}, type: {}\".format(my_empty_dict,type(my_empty_dict)))"
   ]
  },
  {
   "cell_type": "markdown",
   "metadata": {
    "application/vnd.databricks.v1+cell": {
     "cellMetadata": {},
     "inputWidgets": {},
     "nuid": "e6cc87cc-4394-42da-ae62-116b96478271",
     "showTitle": false,
     "title": ""
    }
   },
   "source": [
    "## Initialization"
   ]
  },
  {
   "cell_type": "code",
   "execution_count": 0,
   "metadata": {
    "application/vnd.databricks.v1+cell": {
     "cellMetadata": {},
     "inputWidgets": {},
     "nuid": "17b880ef-0c92-4281-80ca-ffb8f46deaba",
     "showTitle": false,
     "title": ""
    }
   },
   "outputs": [],
   "source": [
    "dict1 = {\"value1\": 1.6, \"value2\": 10, \"name\": \"John Doe\"}\n",
    "dict2 = dict(value1=1.6, value2=10, name=\"John Doe\")\n",
    "\n",
    "print(dict1)\n",
    "print(dict2)\n",
    "\n",
    "print(\"equals: {}\".format(dict1 == dict2))\n",
    "print(\"length: {}\".format(len(dict1)))"
   ]
  },
  {
   "cell_type": "markdown",
   "metadata": {
    "application/vnd.databricks.v1+cell": {
     "cellMetadata": {},
     "inputWidgets": {},
     "nuid": "07a5e91c-c9f9-48e8-89d8-d1176d1263a9",
     "showTitle": false,
     "title": ""
    }
   },
   "source": [
    "## `dict.keys(), dict.values(), dict.items()`"
   ]
  },
  {
   "cell_type": "code",
   "execution_count": 0,
   "metadata": {
    "application/vnd.databricks.v1+cell": {
     "cellMetadata": {},
     "inputWidgets": {},
     "nuid": "1683e563-ade3-46c4-a115-7bf7e6fac626",
     "showTitle": false,
     "title": ""
    }
   },
   "outputs": [],
   "source": [
    "print(\"keys: {}\".format(dict1.keys()))\n",
    "print(\"values: {}\".format(dict1.values()))\n",
    "print(\"items: {}\".format(dict1.items()))"
   ]
  },
  {
   "cell_type": "markdown",
   "metadata": {
    "application/vnd.databricks.v1+cell": {
     "cellMetadata": {},
     "inputWidgets": {},
     "nuid": "9950b156-cd3b-4c54-8bad-a81095cbef35",
     "showTitle": false,
     "title": ""
    }
   },
   "source": [
    "## Accessing and setting values"
   ]
  },
  {
   "cell_type": "code",
   "execution_count": 0,
   "metadata": {
    "application/vnd.databricks.v1+cell": {
     "cellMetadata": {},
     "inputWidgets": {},
     "nuid": "8b2028ae-d2df-4d0a-a5d2-aedb5949c9c5",
     "showTitle": false,
     "title": ""
    }
   },
   "outputs": [],
   "source": [
    "my_dict = {}\n",
    "my_dict[\"key1\"] = \"value1\"\n",
    "my_dict[\"key2\"] = 99\n",
    "my_dict[\"key1\"] = \"new value\"  # overriding existing value\n",
    "print(my_dict)\n",
    "print(\"value of key1: {}\".format(my_dict['key1']))\n",
    "print(my_dict.get(\"key2\"))"
   ]
  },
  {
   "cell_type": "markdown",
   "metadata": {
    "application/vnd.databricks.v1+cell": {
     "cellMetadata": {},
     "inputWidgets": {},
     "nuid": "06f2824d-e489-4e18-9c9e-b2606d00ef87",
     "showTitle": false,
     "title": ""
    }
   },
   "source": [
    "Accessing a nonexistent key will raise `KeyError` (see [`dict.get()`](#dict_get) for workaround):"
   ]
  },
  {
   "cell_type": "code",
   "execution_count": 0,
   "metadata": {
    "application/vnd.databricks.v1+cell": {
     "cellMetadata": {},
     "inputWidgets": {},
     "nuid": "cc7ccd99-a13f-41ee-81a1-e82ca0eead55",
     "showTitle": false,
     "title": ""
    }
   },
   "outputs": [],
   "source": [
    "# print(my_dict['nope'])"
   ]
  },
  {
   "cell_type": "markdown",
   "metadata": {
    "application/vnd.databricks.v1+cell": {
     "cellMetadata": {},
     "inputWidgets": {},
     "nuid": "692285c0-f421-4d9d-b05d-6131c3c87c53",
     "showTitle": false,
     "title": ""
    }
   },
   "source": [
    "## Deleting"
   ]
  },
  {
   "cell_type": "code",
   "execution_count": 0,
   "metadata": {
    "application/vnd.databricks.v1+cell": {
     "cellMetadata": {},
     "inputWidgets": {},
     "nuid": "7c58f701-c0b7-4b62-8426-38098e1f213d",
     "showTitle": false,
     "title": ""
    }
   },
   "outputs": [],
   "source": [
    "my_dict = {\"key1\": \"value1\", \"key2\": 99, \"keyX\": \"valueX\"}\n",
    "# del my_dict[\"keyX\"]\n",
    "# print(my_dict.pop(\"key1\"))\n",
    "# print(my_dict)\n",
    "\n",
    "# Usually better to make sure that the key exists (see also pop() and popitem())\n",
    "key_to_delete = \"my_key\"\n",
    "if key_to_delete in my_dict:\n",
    "    del my_dict[key_to_delete]\n",
    "else:\n",
    "    print(\"{} is not in {}\".format(key_to_delete,my_dict))"
   ]
  },
  {
   "cell_type": "markdown",
   "metadata": {
    "application/vnd.databricks.v1+cell": {
     "cellMetadata": {},
     "inputWidgets": {},
     "nuid": "c4cbab5c-2fa6-46d5-9c26-7939068d8c7a",
     "showTitle": false,
     "title": ""
    }
   },
   "source": [
    "## Dictionaries are mutable"
   ]
  },
  {
   "cell_type": "code",
   "execution_count": 0,
   "metadata": {
    "application/vnd.databricks.v1+cell": {
     "cellMetadata": {},
     "inputWidgets": {},
     "nuid": "a70af347-d5d3-4052-bfdd-7aa89a0b2a2c",
     "showTitle": false,
     "title": ""
    }
   },
   "outputs": [],
   "source": [
    "my_dict = {\"ham\": \"good\", \"carrot\": \"semi good\"}\n",
    "my_other_dict = my_dict\n",
    "my_other_dict[\"carrot\"] = \"super tasty\"\n",
    "my_other_dict[\"sausage\"] = \"best ever\"\n",
    "print(f\"{my_dict=}\\nother: {my_other_dict}\")\n",
    "print(f\"equals: {my_dict == my_other_dict}\")"
   ]
  },
  {
   "cell_type": "markdown",
   "metadata": {
    "application/vnd.databricks.v1+cell": {
     "cellMetadata": {},
     "inputWidgets": {},
     "nuid": "847bd7eb-0871-4740-90e4-3b0a08e734a5",
     "showTitle": false,
     "title": ""
    }
   },
   "source": [
    "Create a new `dict` if you want to have a copy:"
   ]
  },
  {
   "cell_type": "code",
   "execution_count": 0,
   "metadata": {
    "application/vnd.databricks.v1+cell": {
     "cellMetadata": {},
     "inputWidgets": {},
     "nuid": "e0456639-63d6-404e-9f4c-b5a29d324e5b",
     "showTitle": false,
     "title": ""
    }
   },
   "outputs": [],
   "source": [
    "my_dict = {\"ham\": \"good\", \"carrot\": \"semi good\"}\n",
    "my_other_dict = dict(my_dict)\n",
    "my_other_dict[\"beer\"] = \"decent\"\n",
    "print(f\"{my_dict=}\\nother: {my_other_dict}\")\n",
    "print(f\"equals: {my_dict == my_other_dict}\")"
   ]
  },
  {
   "cell_type": "markdown",
   "metadata": {
    "application/vnd.databricks.v1+cell": {
     "cellMetadata": {},
     "inputWidgets": {},
     "nuid": "05cff3a5-3c1c-4288-ac4e-a9838c2ff21a",
     "showTitle": false,
     "title": ""
    }
   },
   "source": [
    "<a id='dict_get'></a>\n",
    "## `dict.get()`\n",
    "Returns `None` if `key` is not in `dict`. However, you can also specify `default` return value which will be returned if `key` is not present in the `dict`. "
   ]
  },
  {
   "cell_type": "code",
   "execution_count": 0,
   "metadata": {
    "application/vnd.databricks.v1+cell": {
     "cellMetadata": {},
     "inputWidgets": {},
     "nuid": "5fe2e655-e5af-4d12-be56-fd78e8a849f8",
     "showTitle": false,
     "title": ""
    }
   },
   "outputs": [],
   "source": [
    "my_dict = {\"a\": 1, \"b\": 2, \"c\": 3}\n",
    "value_of_d = my_dict.get(\"d\")\n",
    "print(\"d: {}\".format(value_of_d))\n",
    "\n",
    "value_of_d = my_dict.get(\"d\", \"Tushar\")\n",
    "print(\"d: {}\".format(value_of_d))"
   ]
  },
  {
   "cell_type": "markdown",
   "metadata": {
    "application/vnd.databricks.v1+cell": {
     "cellMetadata": {},
     "inputWidgets": {},
     "nuid": "a20c41b8-6d85-4006-8de0-3ee461c4f913",
     "showTitle": false,
     "title": ""
    }
   },
   "source": [
    "## `dict.pop()`"
   ]
  },
  {
   "cell_type": "code",
   "execution_count": 0,
   "metadata": {
    "application/vnd.databricks.v1+cell": {
     "cellMetadata": {},
     "inputWidgets": {},
     "nuid": "c3b8072e-1a8b-470f-a6ae-d115d207d600",
     "showTitle": false,
     "title": ""
    }
   },
   "outputs": [],
   "source": [
    "my_dict = dict(food=\"ham\", drink=\"beer\", sport=\"football\")\n",
    "print(\"dict before pops: {}\".format(my_dict))\n",
    "\n",
    "food = my_dict.pop(\"food\")\n",
    "print(\"food: {}\".format(food))\n",
    "print(\"dict after popping food: {}\".format(my_dict))\n",
    "\n",
    "food_again = my_dict.pop(\"food\", \"default value for food\")\n",
    "print(\"food again: {}\".format(food_again))\n",
    "print(\"dict after popping food again: {}\".format(my_dict))"
   ]
  },
  {
   "cell_type": "markdown",
   "metadata": {
    "application/vnd.databricks.v1+cell": {
     "cellMetadata": {},
     "inputWidgets": {},
     "nuid": "dddf49c2-bd53-44b4-97cd-113df754c46c",
     "showTitle": false,
     "title": ""
    }
   },
   "source": [
    "## `dict.setdefault()`\n",
    "Returns the `value` of `key` defined as first parameter. If the `key` is not present in the dict, adds `key` with default value (second parameter)."
   ]
  },
  {
   "cell_type": "code",
   "execution_count": 0,
   "metadata": {
    "application/vnd.databricks.v1+cell": {
     "cellMetadata": {},
     "inputWidgets": {},
     "nuid": "f4ab2057-d660-41a1-8aad-7c0682adb805",
     "showTitle": false,
     "title": ""
    }
   },
   "outputs": [],
   "source": [
    "my_dict = {\"a\": 1, \"b\": 2, \"c\": 3}\n",
    "a = my_dict.setdefault(\"a\", \"xxx\")\n",
    "d = my_dict.setdefault(\"d\", \"yyy\")\n",
    "print(\"a: {}\\nd: {}\\nmy_dict: {}\".format(a,d,my_dict))"
   ]
  },
  {
   "cell_type": "markdown",
   "metadata": {
    "application/vnd.databricks.v1+cell": {
     "cellMetadata": {},
     "inputWidgets": {},
     "nuid": "09e377a8-7e52-48c6-9943-6e990a840616",
     "showTitle": false,
     "title": ""
    }
   },
   "source": [
    "## `dict.update()`\n",
    "Merge two `dict`s"
   ]
  },
  {
   "cell_type": "code",
   "execution_count": 0,
   "metadata": {
    "application/vnd.databricks.v1+cell": {
     "cellMetadata": {},
     "inputWidgets": {},
     "nuid": "84d38591-e790-4d35-bf7c-8df161778f36",
     "showTitle": false,
     "title": ""
    }
   },
   "outputs": [],
   "source": [
    "dict1 = {\"a\": 1, \"b\": 2}\n",
    "dict2 = {\"c\": 3}\n",
    "dict1.update(dict2)\n",
    "print(dict1)\n",
    "\n",
    "# If they have same keys:\n",
    "dict1.update({\"c\": 4})\n",
    "print(dict1)"
   ]
  },
  {
   "cell_type": "markdown",
   "metadata": {
    "application/vnd.databricks.v1+cell": {
     "cellMetadata": {},
     "inputWidgets": {},
     "nuid": "9c0f9794-0714-41b5-90ed-765cf82e438c",
     "showTitle": false,
     "title": ""
    }
   },
   "source": [
    "## The keys of a `dict` have to be immutable"
   ]
  },
  {
   "cell_type": "markdown",
   "metadata": {
    "application/vnd.databricks.v1+cell": {
     "cellMetadata": {},
     "inputWidgets": {},
     "nuid": "8976fcd4-9de3-4a03-97a7-357d393e428f",
     "showTitle": false,
     "title": ""
    }
   },
   "source": [
    "Thus you can not use e.g. a `list` or a `dict` as key because they are mutable types\n",
    ":"
   ]
  },
  {
   "cell_type": "code",
   "execution_count": 0,
   "metadata": {
    "application/vnd.databricks.v1+cell": {
     "cellMetadata": {},
     "inputWidgets": {},
     "nuid": "b4c1d8fb-ca70-4368-b742-08b457dff3f5",
     "showTitle": false,
     "title": ""
    }
   },
   "outputs": [],
   "source": [
    "# bad_dict = {['my_list'], 'value'}  # Raises TypeError"
   ]
  },
  {
   "cell_type": "markdown",
   "metadata": {
    "application/vnd.databricks.v1+cell": {
     "cellMetadata": {},
     "inputWidgets": {},
     "nuid": "307def7e-6528-4144-989c-46771cbfc1ea",
     "showTitle": false,
     "title": ""
    }
   },
   "source": [
    "Values can be mutable"
   ]
  },
  {
   "cell_type": "code",
   "execution_count": 0,
   "metadata": {
    "application/vnd.databricks.v1+cell": {
     "cellMetadata": {},
     "inputWidgets": {},
     "nuid": "a3f2c3b8-238d-4ba5-a1cc-c31724e17feb",
     "showTitle": false,
     "title": ""
    }
   },
   "outputs": [],
   "source": [
    "good_dict = {\"my key\": [\"Python\", \"is\", \"still\", \"cool\"]}\n",
    "print(good_dict)"
   ]
  }
 ],
 "metadata": {
  "application/vnd.databricks.v1+notebook": {
   "dashboards": [],
   "language": "python",
   "notebookMetadata": {},
   "notebookName": "04_dictionaries",
   "widgets": {}
  },
  "kernelspec": {
   "display_name": "Python 3",
   "language": "python",
   "name": "python3"
  },
  "language_info": {
   "codemirror_mode": {
    "name": "ipython",
    "version": 3
   },
   "file_extension": ".py",
   "mimetype": "text/x-python",
   "name": "python",
   "nbconvert_exporter": "python",
   "pygments_lexer": "ipython3",
   "version": "3.5.4"
  }
 },
 "nbformat": 4,
 "nbformat_minor": 0
}
