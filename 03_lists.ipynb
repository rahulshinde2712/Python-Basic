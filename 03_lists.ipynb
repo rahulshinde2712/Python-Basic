{
 "cells": [
  {
   "cell_type": "markdown",
   "metadata": {
    "application/vnd.databricks.v1+cell": {
     "cellMetadata": {},
     "inputWidgets": {},
     "nuid": "dc5d2ba4-fcd4-4ac6-85a2-72e4ffbb31ca",
     "showTitle": false,
     "title": ""
    }
   },
   "source": [
    "# [Lists](https://docs.python.org/3/library/stdtypes.html#lists)"
   ]
  },
  {
   "cell_type": "code",
   "execution_count": 0,
   "metadata": {
    "application/vnd.databricks.v1+cell": {
     "cellMetadata": {},
     "inputWidgets": {},
     "nuid": "dc923f24-fb85-450a-aa2d-e59f449025ab",
     "showTitle": false,
     "title": ""
    }
   },
   "outputs": [],
   "source": [
    "my_empty_list = []\n",
    "print(\"empty list: {}, type: {}\".format(my_empty_list,type(my_empty_list)))"
   ]
  },
  {
   "cell_type": "code",
   "execution_count": 0,
   "metadata": {
    "application/vnd.databricks.v1+cell": {
     "cellMetadata": {},
     "inputWidgets": {},
     "nuid": "258a88d9-88b0-4845-8599-38b2fd83069c",
     "showTitle": false,
     "title": ""
    }
   },
   "outputs": [],
   "source": [
    "list_of_ints = [1, 2, 6, 7]\n",
    "list_of_misc = [0.2, 5, \"Python\", \"is\", \"still fun\", \"!\"]\n",
    "print(\"lengths: {} and {}\".format(len(list_of_ints),len(list_of_misc)))\n",
    "print(\"lengths: {} and {}\".format(list_of_ints,list_of_misc))"
   ]
  },
  {
   "cell_type": "markdown",
   "metadata": {
    "application/vnd.databricks.v1+cell": {
     "cellMetadata": {},
     "inputWidgets": {},
     "nuid": "86c54e2b-2147-4c35-9ad5-d6c2c72abd20",
     "showTitle": false,
     "title": ""
    }
   },
   "source": [
    "## Accessing values"
   ]
  },
  {
   "cell_type": "code",
   "execution_count": 0,
   "metadata": {
    "application/vnd.databricks.v1+cell": {
     "cellMetadata": {},
     "inputWidgets": {},
     "nuid": "f0a214ae-0f85-4f41-b3a6-219f9d64c4bd",
     "showTitle": false,
     "title": ""
    }
   },
   "outputs": [],
   "source": [
    "my_list = [\"Python\", \"is\", \"still\", \"cool\"]\n",
    "print(my_list[0])\n",
    "print(my_list[3])"
   ]
  },
  {
   "cell_type": "code",
   "execution_count": 0,
   "metadata": {
    "application/vnd.databricks.v1+cell": {
     "cellMetadata": {},
     "inputWidgets": {},
     "nuid": "78526784-54f4-46b0-970c-b07217c6264a",
     "showTitle": false,
     "title": ""
    }
   },
   "outputs": [],
   "source": [
    "coordinates = [[12.0, 13.3,12.12], [0.6, 18.0], [88.0, 1.1]]  # two dimensional\n",
    "print(\"first coordinate: {}\".format(coordinates[0]))\n",
    "print(\"second element of first coordinate: {}\".format(coordinates[0][2]))"
   ]
  },
  {
   "cell_type": "markdown",
   "metadata": {
    "application/vnd.databricks.v1+cell": {
     "cellMetadata": {},
     "inputWidgets": {},
     "nuid": "dbcec181-e77a-46d8-9b53-29ae92fd52f3",
     "showTitle": false,
     "title": ""
    }
   },
   "source": [
    "## Updating values"
   ]
  },
  {
   "cell_type": "code",
   "execution_count": 0,
   "metadata": {
    "application/vnd.databricks.v1+cell": {
     "cellMetadata": {},
     "inputWidgets": {},
     "nuid": "a1597029-c628-4dfb-85fd-ec4652bca5ef",
     "showTitle": false,
     "title": ""
    }
   },
   "outputs": [],
   "source": [
    "my_list = [88, 1, 2, 3, 4, 5]\n",
    "print(my_list)\n",
    "\n",
    "my_list[0] = 99\n",
    "print(my_list)\n",
    "\n",
    "# remove first value\n",
    "del my_list[0]\n",
    "print(my_list)"
   ]
  },
  {
   "cell_type": "markdown",
   "metadata": {
    "application/vnd.databricks.v1+cell": {
     "cellMetadata": {},
     "inputWidgets": {},
     "nuid": "0fa2c220-cb12-43fe-ad51-6a3fe1b68cea",
     "showTitle": false,
     "title": ""
    }
   },
   "source": [
    "## Checking if certain value is present in list"
   ]
  },
  {
   "cell_type": "code",
   "execution_count": 0,
   "metadata": {
    "application/vnd.databricks.v1+cell": {
     "cellMetadata": {},
     "inputWidgets": {},
     "nuid": "56e5b2fb-f77d-46b8-ac4d-d6aa037581e6",
     "showTitle": false,
     "title": ""
    }
   },
   "outputs": [],
   "source": [
    "languages = [\"Java\", \"C++\", \"Go\", \"Python\", \"JavaScript\",\"Garvit\"]\n",
    "# if \"Java\" in languages:    \n",
    "#     print(\"Python is there!\") \n",
    "# else:\n",
    "#     print(\"not avalaible\")\n",
    "    \n",
    "# for i in languages:\n",
    "#     print(i)\n",
    "\n",
    "print(\" \".join(languages))"
   ]
  },
  {
   "cell_type": "code",
   "execution_count": 0,
   "metadata": {
    "application/vnd.databricks.v1+cell": {
     "cellMetadata": {},
     "inputWidgets": {},
     "nuid": "3790e8a0-9ca9-4984-b532-7633fc51ebe1",
     "showTitle": false,
     "title": ""
    }
   },
   "outputs": [],
   "source": [
    "if 6 not in [1, 2, 3, 7]:\n",
    "    print(\"number 6 is not present\")"
   ]
  },
  {
   "cell_type": "markdown",
   "metadata": {
    "application/vnd.databricks.v1+cell": {
     "cellMetadata": {},
     "inputWidgets": {},
     "nuid": "f9a19c59-c981-4f43-998d-55cfdbb257a6",
     "showTitle": false,
     "title": ""
    }
   },
   "source": [
    "## List are mutable"
   ]
  },
  {
   "cell_type": "code",
   "execution_count": 0,
   "metadata": {
    "application/vnd.databricks.v1+cell": {
     "cellMetadata": {},
     "inputWidgets": {},
     "nuid": "91d6442a-bf82-4fd7-abec-6e51793d3c59",
     "showTitle": false,
     "title": ""
    }
   },
   "outputs": [],
   "source": [
    "original = [1, 2, 3]\n",
    "modified = original\n",
    "modified[0] = 99\n",
    "print(f\"original: {original}, modified: {modified}\")"
   ]
  },
  {
   "cell_type": "markdown",
   "metadata": {
    "application/vnd.databricks.v1+cell": {
     "cellMetadata": {},
     "inputWidgets": {},
     "nuid": "f4c02ca5-7ecf-42f5-947b-eded87248c19",
     "showTitle": false,
     "title": ""
    }
   },
   "source": [
    "You can get around this by creating new `list`:"
   ]
  },
  {
   "cell_type": "code",
   "execution_count": 0,
   "metadata": {
    "application/vnd.databricks.v1+cell": {
     "cellMetadata": {},
     "inputWidgets": {},
     "nuid": "019e1a07-0bc7-447e-b012-514f51c2dcce",
     "showTitle": false,
     "title": ""
    }
   },
   "outputs": [],
   "source": [
    "original = [1, 2, 3]\n",
    "modified = list(original)  # Note list()\n",
    "# Alternatively, you can use copy method\n",
    "# modified = original.copy()\n",
    "modified[0] = 99\n",
    "print(f\"original: {original}, modified: {modified}\")"
   ]
  },
  {
   "cell_type": "markdown",
   "metadata": {
    "application/vnd.databricks.v1+cell": {
     "cellMetadata": {},
     "inputWidgets": {},
     "nuid": "2ba9a438-7770-403b-bd98-be0db50f9798",
     "showTitle": false,
     "title": ""
    }
   },
   "source": [
    "## `list.append()`"
   ]
  },
  {
   "cell_type": "code",
   "execution_count": 0,
   "metadata": {
    "application/vnd.databricks.v1+cell": {
     "cellMetadata": {},
     "inputWidgets": {},
     "nuid": "38175edc-ab9a-476d-aadd-90e8d65d0189",
     "showTitle": false,
     "title": ""
    }
   },
   "outputs": [],
   "source": [
    "my_list = [1]\n",
    "my_list.append(\"ham\")\n",
    "print(my_list)"
   ]
  },
  {
   "cell_type": "markdown",
   "metadata": {
    "application/vnd.databricks.v1+cell": {
     "cellMetadata": {},
     "inputWidgets": {},
     "nuid": "81b9df1f-d7e7-4957-9c92-7bbbda724a1e",
     "showTitle": false,
     "title": ""
    }
   },
   "source": [
    "## `list.remove()`"
   ]
  },
  {
   "cell_type": "code",
   "execution_count": 0,
   "metadata": {
    "application/vnd.databricks.v1+cell": {
     "cellMetadata": {},
     "inputWidgets": {},
     "nuid": "dad09d7e-804f-4e4e-9756-62da6934d485",
     "showTitle": false,
     "title": ""
    }
   },
   "outputs": [],
   "source": [
    "my_list = [\"Python\", \"is\", \"sometimes\", \"fun\"]\n",
    "my_list.remove(\"sometimes\")\n",
    "print(my_list)\n",
    "\n",
    "# If you are not sure that the value is in list, better to check first:\n",
    "if \"Java\" in my_list:\n",
    "    my_list.remove(\"Java\")\n",
    "else:\n",
    "    print(\"Java is not part of this story.\")"
   ]
  },
  {
   "cell_type": "markdown",
   "metadata": {
    "application/vnd.databricks.v1+cell": {
     "cellMetadata": {},
     "inputWidgets": {},
     "nuid": "4a418a1f-18f1-439d-8b9c-f8e6b512b4d2",
     "showTitle": false,
     "title": ""
    }
   },
   "source": [
    "## `list.sort()`"
   ]
  },
  {
   "cell_type": "code",
   "execution_count": 0,
   "metadata": {
    "application/vnd.databricks.v1+cell": {
     "cellMetadata": {},
     "inputWidgets": {},
     "nuid": "5635bcf2-1d79-43ba-89df-4eccf97a5889",
     "showTitle": false,
     "title": ""
    }
   },
   "outputs": [],
   "source": [
    "numbers = [8, 1, 6, 5, 10]\n",
    "numbers.sort()\n",
    "print(\"numbers: {}\".format(numbers))\n",
    "print(\"numbers: {}\".format(sorted(numbers)))\n",
    "\n",
    "\n",
    "# numbers.sort(reverse=True)\n",
    "# print(f\"numbers reversed: {numbers}\")\n",
    "\n",
    "# words = [\"this\", \"is\", \"a\", \"list\", \"of\", \"words\"]\n",
    "# words.sort()\n",
    "# print(f\"words: {words}\")"
   ]
  },
  {
   "cell_type": "markdown",
   "metadata": {
    "application/vnd.databricks.v1+cell": {
     "cellMetadata": {},
     "inputWidgets": {},
     "nuid": "04c3aa86-7c00-4e5d-a25f-b9defffe8b0f",
     "showTitle": false,
     "title": ""
    }
   },
   "source": [
    "## `sorted(list)`\n",
    "While `list.sort()` sorts the list in-place, `sorted(list)` returns a new list and leaves the original untouched:"
   ]
  },
  {
   "cell_type": "code",
   "execution_count": 0,
   "metadata": {
    "application/vnd.databricks.v1+cell": {
     "cellMetadata": {},
     "inputWidgets": {},
     "nuid": "a2a66b85-bf4c-4e96-954f-89f159581993",
     "showTitle": false,
     "title": ""
    }
   },
   "outputs": [],
   "source": [
    "numbers = [8, 1, 6, 5, 10]\n",
    "sorted_numbers = sorted(numbers)\n",
    "print(f\"{numbers=}, {sorted_numbers=}\")"
   ]
  },
  {
   "cell_type": "markdown",
   "metadata": {
    "application/vnd.databricks.v1+cell": {
     "cellMetadata": {},
     "inputWidgets": {},
     "nuid": "ab5019b6-055b-4cf0-94b7-65c412e9d1aa",
     "showTitle": false,
     "title": ""
    }
   },
   "source": [
    "## `list.extend()`"
   ]
  },
  {
   "cell_type": "code",
   "execution_count": 0,
   "metadata": {
    "application/vnd.databricks.v1+cell": {
     "cellMetadata": {},
     "inputWidgets": {},
     "nuid": "a136cd71-da20-45d3-a953-147f8e95c8e0",
     "showTitle": false,
     "title": ""
    }
   },
   "outputs": [],
   "source": [
    "first_list = [\"beef\", \"ham\"]\n",
    "second_list = [\"potatoes\", 1, 3,445]\n",
    "second_list.extend(first_list)\n",
    "print(second_list)\n",
    "# print(\"{first_list=}, {second_list=}\")"
   ]
  },
  {
   "cell_type": "markdown",
   "metadata": {
    "application/vnd.databricks.v1+cell": {
     "cellMetadata": {},
     "inputWidgets": {},
     "nuid": "ae3a49e5-eca4-4746-b480-5a91531027b0",
     "showTitle": false,
     "title": ""
    }
   },
   "source": [
    "Alternatively you can also extend lists by summing them:"
   ]
  },
  {
   "cell_type": "code",
   "execution_count": 0,
   "metadata": {
    "application/vnd.databricks.v1+cell": {
     "cellMetadata": {},
     "inputWidgets": {},
     "nuid": "468bff2d-9445-40ad-b9dd-2186c90b9ef1",
     "showTitle": false,
     "title": ""
    }
   },
   "outputs": [],
   "source": [
    "first = [1, 2, 3]\n",
    "second = [4, 5]\n",
    "first += second  # same as: first = first + second\n",
    "print(f\"{first=}\")"
   ]
  },
  {
   "cell_type": "markdown",
   "metadata": {
    "application/vnd.databricks.v1+cell": {
     "cellMetadata": {},
     "inputWidgets": {},
     "nuid": "adb631c6-fd26-4490-a790-b918c5813086",
     "showTitle": false,
     "title": ""
    }
   },
   "source": [
    "## `list.reverse()`"
   ]
  },
  {
   "cell_type": "code",
   "execution_count": 0,
   "metadata": {
    "application/vnd.databricks.v1+cell": {
     "cellMetadata": {},
     "inputWidgets": {},
     "nuid": "db334369-48a7-4f65-9be3-488f53a99e56",
     "showTitle": false,
     "title": ""
    }
   },
   "outputs": [],
   "source": [
    "my_list = [\"a\", \"b\", \"ham\"]\n",
    "my_list.reverse()\n",
    "print(my_list)"
   ]
  },
  {
   "cell_type": "code",
   "execution_count": 0,
   "metadata": {
    "application/vnd.databricks.v1+cell": {
     "cellMetadata": {},
     "inputWidgets": {},
     "nuid": "f4afb2f3-99f2-484a-bca6-779fe9027a5d",
     "showTitle": false,
     "title": ""
    }
   },
   "outputs": [],
   "source": [
    "firstlist=[\"A\",\"B\"]\n",
    "secondlist=[\"C\",\"D\"]\n",
    "secondlist.extend(firstlist)\n",
    "print(secondlist)\n",
    "secondlist.reverse()\n",
    "print(secondlist)"
   ]
  }
 ],
 "metadata": {
  "application/vnd.databricks.v1+notebook": {
   "dashboards": [],
   "language": "python",
   "notebookMetadata": {},
   "notebookName": "03_lists",
   "widgets": {}
  },
  "kernelspec": {
   "display_name": "Python 3",
   "language": "python",
   "name": "python3"
  },
  "language_info": {
   "codemirror_mode": {
    "name": "ipython",
    "version": 3
   },
   "file_extension": ".py",
   "mimetype": "text/x-python",
   "name": "python",
   "nbconvert_exporter": "python",
   "pygments_lexer": "ipython3",
   "version": "3.5.4"
  }
 },
 "nbformat": 4,
 "nbformat_minor": 0
}
