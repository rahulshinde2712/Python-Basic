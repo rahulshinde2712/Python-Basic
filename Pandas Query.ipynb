{
 "cells": [
  {
   "cell_type": "code",
   "execution_count": 0,
   "metadata": {
    "application/vnd.databricks.v1+cell": {
     "cellMetadata": {},
     "inputWidgets": {},
     "nuid": "b8a18eb6-8219-4eec-89b4-2793aeea0485",
     "showTitle": false,
     "title": ""
    }
   },
   "outputs": [],
   "source": [
    "###Pandas.DataFrame.query()\n",
    "\"\"\"\n",
    "Pandas DataFrame.query() method is used to query the rows based on the expression \n",
    "(single or multiple column conditions) provided and returns a new DataFrame\n",
    "\"\"\""
   ]
  },
  {
   "cell_type": "code",
   "execution_count": 0,
   "metadata": {
    "application/vnd.databricks.v1+cell": {
     "cellMetadata": {},
     "inputWidgets": {},
     "nuid": "a05351bc-5e2a-4511-996c-29ea62e6216d",
     "showTitle": false,
     "title": ""
    }
   },
   "outputs": [],
   "source": [
    "\n",
    "# Create DataFrame\n",
    "import pandas as pd\n",
    "import numpy as np\n",
    "technologies= {\n",
    "    'Courses':[\"Spark\",\"PySpark\",\"Hadoop\",\"Python\",\"Pandas\"],\n",
    "    'Fee' :[22000,25000,23000,24000,26000],\n",
    "    'Duration':['30days','50days','30days', None,np.nan],\n",
    "    'Discount':[1000,2300,1000,1200,2500]\n",
    "          }\n",
    "df = pd.DataFrame(technologies)\n",
    "print(df)\n"
   ]
  },
  {
   "cell_type": "code",
   "execution_count": 0,
   "metadata": {
    "application/vnd.databricks.v1+cell": {
     "cellMetadata": {},
     "inputWidgets": {},
     "nuid": "110cfd49-5d86-4781-847c-a7309a42bef5",
     "showTitle": false,
     "title": ""
    }
   },
   "outputs": [],
   "source": [
    "# Query() method syntax\n",
    "#DataFrame.query(expr, inplace=False, **kwargs)\n",
    "\n",
    "\"\"\"\n",
    "expr – expression takes conditions to query rows\n",
    "inplace – Defaults to False. When set toTrue, it updates the referring DataFrame and query() method returns None.\n",
    "**kwargs –  Keyword arguments that works with eval()\n",
    "\"\"\"\n"
   ]
  },
  {
   "cell_type": "code",
   "execution_count": 0,
   "metadata": {
    "application/vnd.databricks.v1+cell": {
     "cellMetadata": {},
     "inputWidgets": {},
     "nuid": "997756de-49b1-48dd-bd7c-294dac29fa97",
     "showTitle": false,
     "title": ""
    }
   },
   "outputs": [],
   "source": [
    "\n",
    "# Query all rows with Courses equals 'Spark'\n",
    "df2=df.query(\"Courses == 'Spark'\")\n",
    "print(df2)\n"
   ]
  },
  {
   "cell_type": "code",
   "execution_count": 0,
   "metadata": {
    "application/vnd.databricks.v1+cell": {
     "cellMetadata": {},
     "inputWidgets": {},
     "nuid": "c466bc8e-b6d3-4609-a725-f61cab120011",
     "showTitle": false,
     "title": ""
    }
   },
   "outputs": [],
   "source": [
    "\n",
    "# Query Rows by using Python variable\n",
    "value='Spark'\n",
    "df2=df.query(\"Courses == @value\")\n",
    "print(df2)\n"
   ]
  },
  {
   "cell_type": "code",
   "execution_count": 0,
   "metadata": {
    "application/vnd.databricks.v1+cell": {
     "cellMetadata": {},
     "inputWidgets": {},
     "nuid": "f4b63df7-a1eb-4045-98d0-291a715e3f75",
     "showTitle": false,
     "title": ""
    }
   },
   "outputs": [],
   "source": [
    "\n",
    "# Replace current esisting DataFrame\n",
    "df.query(\"Courses == 'Spark'\",inplace=True)\n",
    "print(df)\n"
   ]
  },
  {
   "cell_type": "code",
   "execution_count": 0,
   "metadata": {
    "application/vnd.databricks.v1+cell": {
     "cellMetadata": {},
     "inputWidgets": {},
     "nuid": "06dd8d9e-2191-4831-b617-6cda439ee65f",
     "showTitle": false,
     "title": ""
    }
   },
   "outputs": [],
   "source": [
    "\n",
    "# Not equals condition\n",
    "df2=df.query(\"Courses != 'Spark'\")\n",
    "print(df2)"
   ]
  },
  {
   "cell_type": "code",
   "execution_count": 0,
   "metadata": {
    "application/vnd.databricks.v1+cell": {
     "cellMetadata": {},
     "inputWidgets": {},
     "nuid": "8f1a5a37-c0c4-45e5-a0ab-e7cf8e026efc",
     "showTitle": false,
     "title": ""
    }
   },
   "outputs": [],
   "source": [
    "\n",
    "# Create DataFrame\n",
    "import pandas as pd\n",
    "import numpy as np\n",
    "technologies= {\n",
    "    'Courses':[\"Spark\",\"PySpark\",\"Hadoop\",\"Python\",\"Pandas\"],\n",
    "    'Fee' :[22000,25000,23000,24000,26000],\n",
    "    'Duration':['30days','50days','30days', None,np.nan],\n",
    "    'Discount':[1000,2300,1000,1200,2500]\n",
    "          }\n",
    "df = pd.DataFrame(technologies)\n",
    "print(df)\n",
    "\n",
    "# Query Rows by list of values\n",
    "print(df.query(\"Courses in ('Spark','PySpark')\"))\n"
   ]
  },
  {
   "cell_type": "code",
   "execution_count": 0,
   "metadata": {
    "application/vnd.databricks.v1+cell": {
     "cellMetadata": {},
     "inputWidgets": {},
     "nuid": "2589bb48-a2c3-4d69-bd56-be2db108aa01",
     "showTitle": false,
     "title": ""
    }
   },
   "outputs": [],
   "source": [
    "\n",
    "# Query Rows by list of values\n",
    "values=['Spark','PySpark']\n",
    "print(df.query(\"Courses in @values\"))\n"
   ]
  },
  {
   "cell_type": "code",
   "execution_count": 0,
   "metadata": {
    "application/vnd.databricks.v1+cell": {
     "cellMetadata": {},
     "inputWidgets": {},
     "nuid": "e462c095-dbb1-453e-8e86-83647d85b376",
     "showTitle": false,
     "title": ""
    }
   },
   "outputs": [],
   "source": [
    "\n",
    "# Using columns with special characters\n",
    "print(df.query(\"`Fee` >= 23000\"))\n"
   ]
  },
  {
   "cell_type": "code",
   "execution_count": 0,
   "metadata": {
    "application/vnd.databricks.v1+cell": {
     "cellMetadata": {},
     "inputWidgets": {},
     "nuid": "00ad41a0-df51-492b-bf83-8bdee47a2d68",
     "showTitle": false,
     "title": ""
    }
   },
   "outputs": [],
   "source": [
    "\n",
    "# By using lambda function\n",
    "print(df.apply(lambda row: row[df['Courses'].isin(['Spark','PySpark'])]))\n"
   ]
  },
  {
   "cell_type": "code",
   "execution_count": 0,
   "metadata": {
    "application/vnd.databricks.v1+cell": {
     "cellMetadata": {},
     "inputWidgets": {},
     "nuid": "cdb9a068-79d5-4de0-8e2a-ffcfd617ca67",
     "showTitle": false,
     "title": ""
    }
   },
   "outputs": [],
   "source": [
    "\n",
    "# Other examples you can try to query rows\n",
    "df[df[\"Courses\"] == 'Spark'] \n",
    "df.loc[df['Courses'] == value]\n",
    "df.loc[df['Courses'] != 'Spark']\n",
    "df.loc[df['Courses'].isin(values)]\n",
    "df.loc[~df['Courses'].isin(values)]\n",
    "df.loc[(df['Discount'] >= 1000) & (df['Discount'] <= 2000)]\n",
    "df.loc[(df['Discount'] >= 1200) & (df['Fee'] >= 23000 )]\n",
    "\n",
    "# Select based on value contains\n",
    "print(df[df['Courses'].str.contains(\"Spark\")])\n",
    "\n",
    "# Select after converting values\n",
    "print(df[df['Courses'].str.lower().str.contains(\"spark\")])\n",
    "\n",
    "# Select startswith\n",
    "print(df[df['Courses'].str.startswith(\"P\")])\n"
   ]
  }
 ],
 "metadata": {
  "application/vnd.databricks.v1+notebook": {
   "dashboards": [],
   "language": "python",
   "notebookMetadata": {},
   "notebookName": "Pandas Query",
   "widgets": {}
  },
  "kernelspec": {
   "display_name": "Python 3",
   "language": "python",
   "name": "python3"
  },
  "language_info": {
   "codemirror_mode": {
    "name": "ipython",
    "version": 3
   },
   "file_extension": ".py",
   "mimetype": "text/x-python",
   "name": "python",
   "nbconvert_exporter": "python",
   "pygments_lexer": "ipython3",
   "version": "3.5.4"
  }
 },
 "nbformat": 4,
 "nbformat_minor": 0
}
