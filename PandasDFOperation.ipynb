{
 "cells": [
  {
   "cell_type": "code",
   "execution_count": 0,
   "metadata": {
    "application/vnd.databricks.v1+cell": {
     "cellMetadata": {},
     "inputWidgets": {},
     "nuid": "417c8ad2-5b64-4377-8b7b-5bfb8d451bc3",
     "showTitle": false,
     "title": ""
    }
   },
   "outputs": [],
   "source": [
    "\"\"\"\n",
    "PANDAS RENAME SCENARIO\tRENAME COLUMN EXAMPLE\n",
    "Rename columns with list\tdf.columns=[‘A’,’B’,’C’]\n",
    "Rename column name by index \tdf.columns.values[2] = “C”\n",
    "Renam column using Dict \tdf2=df.rename(columns={‘a’: ‘A’, ‘b’: ‘B’})\n",
    "Renam column using Dict & axis\t df2=df.rename({‘a’: ‘A’, ‘b’: ‘B’}, axis=1)\n",
    "Renam column using Dict & axis\t df2=df.rename({‘a’: ‘A’, ‘b’: ‘B’}, axis=’columns’)\n",
    "Rename column inplace\tdf.rename(columns={‘a’: ‘A’, ‘b’: ‘B’}, inplace = True)\n",
    "Rename using lambda function\tdf.rename(columns=lambda x: x[1:], inplace=True)\n",
    "Rename with error\tdf.rename(columns = {‘x’:’X’}, errors = “raise”)\n",
    "Rename using set_asis() \tdf2=df.set_axis([‘A’,’B’,’C’], axis=1)\n",
    "\n",
    "\"\"\"\n",
    "\n",
    "#  DataFrame.rename() Syntax\n",
    "# DataFrame.rename(mapper=None, index=None, columns=None, axis=None, \n",
    "#        copy=True, inplace=False, level=None, errors='ignore')\n",
    "\n",
    "\"\"\"mapper – dictionary or function to rename columns and indexes.\n",
    "index – dictionary or function to rename index. When using with axis param, it should be (mapper, axis=0) which is equivalent to index=mapper.\n",
    "columns – dictionary or function to rename columns. When using with axis param, it should be (mapper, axis=0) which is equivalent to column=mapper.\n",
    "axis – Value can be either 0 or index | 1 or columns. Default set to ‘0’.\n",
    "copy – Copies the data as well. Default set to True.\n",
    "inplace – Used to specify the DataFrame referred to be updated. Default to False. When used True, copy property will be ignored.\n",
    "level – Used with MultiIndex. Takes Integer value. Default set to None.\n",
    "\"\"\""
   ]
  },
  {
   "cell_type": "code",
   "execution_count": 0,
   "metadata": {
    "application/vnd.databricks.v1+cell": {
     "cellMetadata": {},
     "inputWidgets": {},
     "nuid": "9c169bfd-c80b-4b49-938e-bed3b003ad3b",
     "showTitle": false,
     "title": ""
    }
   },
   "outputs": [],
   "source": []
  }
 ],
 "metadata": {
  "application/vnd.databricks.v1+notebook": {
   "dashboards": [],
   "language": "python",
   "notebookMetadata": {},
   "notebookName": "PandasDFOperation",
   "widgets": {}
  },
  "kernelspec": {
   "display_name": "Python 3",
   "language": "python",
   "name": "python3"
  },
  "language_info": {
   "codemirror_mode": {
    "name": "ipython",
    "version": 3
   },
   "file_extension": ".py",
   "mimetype": "text/x-python",
   "name": "python",
   "nbconvert_exporter": "python",
   "pygments_lexer": "ipython3",
   "version": "3.5.4"
  }
 },
 "nbformat": 4,
 "nbformat_minor": 0
}
